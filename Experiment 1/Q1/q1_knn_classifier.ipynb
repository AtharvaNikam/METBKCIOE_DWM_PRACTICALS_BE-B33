{
 "cells": [
  {
   "cell_type": "markdown",
   "metadata": {
    "id": "9YsAH36epufx"
   },
   "source": [
    "# Question 1 : KNN\n",
    "\n",
    "***From sklearn.datasets load digits dataset and do following:***\n",
    "\n",
    ">1. Classify digits (0 to 9) using KNN classifier. You can use different\n",
    "values for k neighbors and need to figure out a value of K that gives\n",
    "you a maximum score. You can manually try different values of K or\n",
    "use gridsearchcv\n",
    ">2. Plot confusion matrix\n",
    ">3. Plot classification report"
   ]
  },
  {
   "cell_type": "code",
   "execution_count": 3,
   "metadata": {
    "id": "3O-nX18CVHzy"
   },
   "outputs": [],
   "source": [
    "import matplotlib.pyplot as plt\n",
    "from sklearn.datasets import fetch_openml\n",
    "import pandas as pd\n",
    "import time\n",
    "import numpy as np\n",
    "\n",
    "%matplotlib inline"
   ]
  },
  {
   "cell_type": "code",
   "execution_count": 4,
   "metadata": {
    "colab": {
     "base_uri": "https://localhost:8080/"
    },
    "id": "-EOWyizcVHz3",
    "outputId": "754b21ba-51a9-4d46-ee6d-0395f8de50db"
   },
   "outputs": [
    {
     "name": "stdout",
     "output_type": "stream",
     "text": [
      "X_raw (70000, 784)\n",
      "y (70000,)\n"
     ]
    }
   ],
   "source": [
    "#fetching data\n",
    "X_raw, y = fetch_openml('mnist_784', version=1, as_frame=False, return_X_y=True)\n",
    "print(\"X_raw\",X_raw.shape)\n",
    "print(\"y\",y.shape)"
   ]
  },
  {
   "cell_type": "code",
   "execution_count": 5,
   "metadata": {
    "colab": {
     "base_uri": "https://localhost:8080/",
     "height": 298
    },
    "id": "LTruZVKVVHz5",
    "outputId": "75d0e1e9-5e8e-48ac-c403-8d63b041eb71"
   },
   "outputs": [
    {
     "data": {
      "text/plain": [
       "Text(0.5, 1.0, '4')"
      ]
     },
     "execution_count": 5,
     "metadata": {},
     "output_type": "execute_result"
    },
    {
     "data": {
      "image/png": "[encoded data removed]",
      "text/plain": [
       "<Figure size 432x288 with 1 Axes>"
      ]
     },
     "metadata": {
      "needs_background": "light"
     },
     "output_type": "display_data"
    }
   ],
   "source": [
    "#plotting a sample\n",
    "sample = X_raw[2].reshape(28,28)\n",
    "plt.imshow(sample)\n",
    "plt.title(y[2])"
   ]
  },
  {
   "cell_type": "code",
   "execution_count": 6,
   "metadata": {
    "id": "M4M3CdVAVHz6"
   },
   "outputs": [],
   "source": [
    "#standardizing dataset\n",
    "X = X_raw/255"
   ]
  },
  {
   "cell_type": "code",
   "execution_count": 7,
   "metadata": {
    "colab": {
     "base_uri": "https://localhost:8080/"
    },
    "id": "_fIXKqzlVHz6",
    "outputId": "50d05829-318d-4be0-b92f-70354f7288e3"
   },
   "outputs": [
    {
     "name": "stdout",
     "output_type": "stream",
     "text": [
      "X_train (65000, 784) y_train (65000,)\n",
      "X_test (5000, 784) y_test (5000,)\n"
     ]
    }
   ],
   "source": [
    "n_train = 65000\n",
    "n_test = 5000\n",
    "\n",
    "X_train, y_train = X[:n_train], y[:n_train]\n",
    "X_test, y_test = X[n_train:], y[n_train:]\n",
    "\n",
    "print(\"X_train\",X_train.shape,\"y_train\",y_train.shape)\n",
    "print(\"X_test\",X_test.shape,\"y_test\",y_test.shape)"
   ]
  },
  {
   "cell_type": "code",
   "execution_count": 8,
   "metadata": {
    "id": "gzC4HTTdVHz7"
   },
   "outputs": [],
   "source": [
    "X_train_df = pd.DataFrame(X_train)\n",
    "X_test_df = pd.DataFrame(X_test)\n",
    "y_train_df = pd.DataFrame(y_train)\n",
    "y_test_df = pd.DataFrame(y_test)"
   ]
  },
  {
   "cell_type": "code",
   "execution_count": 9,
   "metadata": {
    "id": "qLeTg-M5VHz7"
   },
   "outputs": [],
   "source": [
    "from sklearn.neighbors import KNeighborsClassifier\n",
    "from sklearn.metrics import accuracy_score\n",
    "\n",
    "def get_classifier(n):\n",
    "    knn = KNeighborsClassifier(algorithm='auto', n_neighbors=n)\n",
    "    knn.fit(X_train_df,y_train_df)\n",
    "    return knn\n",
    "\n",
    "def get_metric(classifier):\n",
    "    y_pred = classifier.predict(X_test_df)\n",
    "    return accuracy_score(y_test_df,y_pred)"
   ]
  },
  {
   "cell_type": "code",
   "execution_count": null,
   "metadata": {
    "colab": {
     "base_uri": "https://localhost:8080/"
    },
    "id": "-saJmRfKY4-M",
    "outputId": "974c2352-1c0f-4539-cc41-3bc4220cbb9c",
    "scrolled": false
   },
   "outputs": [],
   "source": [
    "neighbors = []\n",
    "accuracy = []\n",
    "\n",
    "for i in range(1,100):\n",
    "  k = get_classifier(i)\n",
    "  m = get_metric(k)\n",
    "  neighbors.append(i)\n",
    "  accuracy.append(m)\n"
   ]
  },
  {
   "cell_type": "code",
   "execution_count": null,
   "metadata": {
    "colab": {
     "base_uri": "https://localhost:8080/"
    },
    "id": "Vx9PRtlyZ-WN",
    "outputId": "8252b451-0211-44d9-f1c8-88c5d379c0cf"
   },
   "outputs": [],
   "source": [
    "print(neighbors)\n",
    "print(accuracy)"
   ]
  },
  {
   "cell_type": "code",
   "execution_count": 10,
   "metadata": {
    "id": "U1oxEV-KqHT_"
   },
   "outputs": [],
   "source": [
    "#copied to avoid re-execution\n",
    "neighbors = [1, 2, 3, 4, 5, 6, 7, 8, 9, 10, 11, 12, 13, 14, 15, 16, 17, 18, 19, 20, 21, 22, 23, 24, 25, 26, 27, 28, 29, 30, 31, 32, 33, 34, 35, 36, 37, 38, 39, 40, 41, 42, 43, 44, 45, 46, 47, 48, 49, 50, 51, 52, 53, 54, 55, 56, 57, 58, 59, 60, 61, 62, 63, 64, 65, 66, 67, 68, 69, 70, 71, 72, 73, 74, 75, 76, 77, 78, 79, 80, 81, 82, 83, 84, 85, 86, 87, 88, 89, 90, 91, 92, 93, 94, 95, 96, 97, 98, 99]\n",
    "accuracy = [0.9834, 0.9812, 0.985, 0.9828, 0.9836, 0.9832, 0.9844, 0.9818, 0.9824, 0.9814, 0.9832, 0.9818, 0.9818, 0.9812, 0.9816, 0.9798, 0.98, 0.9798, 0.98, 0.9794, 0.9794, 0.9788, 0.9798, 0.978, 0.9792, 0.9788, 0.9788, 0.9778, 0.978, 0.9772, 0.9774, 0.9764, 0.9766, 0.9756, 0.9758, 0.9752, 0.9758, 0.9756, 0.9756, 0.9754, 0.9752, 0.9752, 0.9748, 0.9746, 0.975, 0.9744, 0.9742, 0.9736, 0.973, 0.973, 0.973, 0.9726, 0.9724, 0.9726, 0.972, 0.972, 0.9724, 0.9716, 0.9726, 0.9716, 0.9718, 0.9716, 0.9712, 0.971, 0.9708, 0.9708, 0.971, 0.971, 0.9708, 0.9712, 0.9704, 0.9708, 0.971, 0.9712, 0.9702, 0.97, 0.9698, 0.9696, 0.9692, 0.9694, 0.9694, 0.9692, 0.9694, 0.9692, 0.9694, 0.9692, 0.9692, 0.969, 0.969, 0.9686, 0.9684, 0.9678, 0.9678, 0.9682, 0.967, 0.9674, 0.9674, 0.9676, 0.9674]"
   ]
  },
  {
   "cell_type": "code",
   "execution_count": 11,
   "metadata": {
    "colab": {
     "base_uri": "https://localhost:8080/",
     "height": 297
    },
    "id": "iLuAR78CjxRs",
    "outputId": "b513e8cc-2560-4c8e-8f0f-a7298a831625"
   },
   "outputs": [
    {
     "data": {
      "text/plain": [
       "Text(0, 0.5, 'accuracy')"
      ]
     },
     "execution_count": 11,
     "metadata": {},
     "output_type": "execute_result"
    },
    {
     "data": {
      "image/png": "[encoded data removed]",
      "text/plain": [
       "<Figure size 432x288 with 1 Axes>"
      ]
     },
     "metadata": {
      "needs_background": "light"
     },
     "output_type": "display_data"
    }
   ],
   "source": [
    "plt.plot(neighbors,accuracy)\n",
    "plt.xlabel('n_neighbors')\n",
    "plt.ylabel('accuracy')"
   ]
  },
  {
   "cell_type": "markdown",
   "metadata": {
    "id": "FMA0cSd9lAAo"
   },
   "source": [
    "KNN classifier gives best results with 3 neighbors"
   ]
  },
  {
   "cell_type": "code",
   "execution_count": 12,
   "metadata": {
    "colab": {
     "base_uri": "https://localhost:8080/"
    },
    "id": "pNYjigbQky8m",
    "outputId": "3296b471-afef-4bd0-c150-0644c96b2d3a"
   },
   "outputs": [
    {
     "name": "stderr",
     "output_type": "stream",
     "text": [
      "C:\\Program Files\\Python310\\lib\\site-packages\\sklearn\\neighbors\\_classification.py:198: DataConversionWarning: A column-vector y was passed when a 1d array was expected. Please change the shape of y to (n_samples,), for example using ravel().\n",
      "  return self._fit(X, y)\n"
     ]
    },
    {
     "data": {
      "text/plain": [
       "0.985"
      ]
     },
     "execution_count": 12,
     "metadata": {},
     "output_type": "execute_result"
    }
   ],
   "source": [
    "k3 = get_classifier(3)\n",
    "get_metric(k3)"
   ]
  },
  {
   "cell_type": "markdown",
   "metadata": {
    "id": "10c6Gt1IkYTO"
   },
   "source": [
    "## Confusion Matrix"
   ]
  },
  {
   "cell_type": "code",
   "execution_count": 13,
   "metadata": {
    "colab": {
     "base_uri": "https://localhost:8080/",
     "height": 351
    },
    "id": "9_8zMc-qlucg",
    "outputId": "7029b23d-3fc3-44bf-baaf-9a1e382a8a8c"
   },
   "outputs": [
    {
     "name": "stderr",
     "output_type": "stream",
     "text": [
      "C:\\Program Files\\Python310\\lib\\site-packages\\sklearn\\utils\\deprecation.py:87: FutureWarning: Function plot_confusion_matrix is deprecated; Function `plot_confusion_matrix` is deprecated in 1.0 and will be removed in 1.2. Use one of the class methods: ConfusionMatrixDisplay.from_predictions or ConfusionMatrixDisplay.from_estimator.\n",
      "  warnings.warn(msg, category=FutureWarning)\n"
     ]
    },
    {
     "data": {
      "text/plain": [
       "<sklearn.metrics._plot.confusion_matrix.ConfusionMatrixDisplay at 0x22d96946950>"
      ]
     },
     "execution_count": 13,
     "metadata": {},
     "output_type": "execute_result"
    },
    {
     "data": {
      "image/png": "[encoded data removed]",
      "text/plain": [
       "<Figure size 432x288 with 2 Axes>"
      ]
     },
     "metadata": {
      "needs_background": "light"
     },
     "output_type": "display_data"
    }
   ],
   "source": [
    "from sklearn.metrics import plot_confusion_matrix\n",
    "\n",
    "plot_confusion_matrix(k3,X_test_df,y_test_df)"
   ]
  },
  {
   "cell_type": "markdown",
   "metadata": {
    "id": "nPNDFNm9kcLm"
   },
   "source": [
    "## Classification Report"
   ]
  },
  {
   "cell_type": "code",
   "execution_count": 14,
   "metadata": {
    "colab": {
     "base_uri": "https://localhost:8080/"
    },
    "id": "c1y4I9NxmVhx",
    "outputId": "e62e9c17-c09a-4a2e-d8ae-99b366b380c2"
   },
   "outputs": [
    {
     "name": "stdout",
     "output_type": "stream",
     "text": [
      "              precision    recall  f1-score   support\n",
      "\n",
      "           0       0.98      0.99      0.99       520\n",
      "           1       0.98      1.00      0.99       564\n",
      "           2       0.99      0.98      0.98       502\n",
      "           3       0.99      0.97      0.98       510\n",
      "           4       0.99      0.98      0.99       482\n",
      "           5       0.97      0.98      0.98       436\n",
      "           6       0.99      1.00      0.99       496\n",
      "           7       0.98      0.98      0.98       516\n",
      "           8       0.99      0.97      0.98       485\n",
      "           9       0.98      0.98      0.98       489\n",
      "\n",
      "    accuracy                           0.98      5000\n",
      "   macro avg       0.99      0.98      0.98      5000\n",
      "weighted avg       0.99      0.98      0.98      5000\n",
      "\n"
     ]
    }
   ],
   "source": [
    "from sklearn.metrics import classification_report\n",
    "\n",
    "y_pred = k3.predict(X_test_df)\n",
    "\n",
    "print(classification_report(y_test_df,y_pred))"
   ]
  }
 ],
 "metadata": {
  "colab": {
   "collapsed_sections": [],
   "name": "DMW_Assignment_1.ipynb",
   "provenance": []
  },
  "kernelspec": {
   "display_name": "Python 3",
   "language": "python",
   "name": "python3"
  },
  "language_info": {
   "codemirror_mode": {
    "name": "ipython",
    "version": 3
   },
   "file_extension": ".py",
   "mimetype": "text/x-python",
   "name": "python",
   "nbconvert_exporter": "python",
   "pygments_lexer": "ipython3",
   "version": "3.10.0"
  }
 },
 "nbformat": 4,
 "nbformat_minor": 1
}
