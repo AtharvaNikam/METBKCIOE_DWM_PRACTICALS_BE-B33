{
 "cells": [
  {
   "cell_type": "markdown",
   "id": "1b47dcb8",
   "metadata": {
    "papermill": {
     "duration": 0.067736,
     "end_time": "2021-11-24T03:27:24.101362",
     "exception": false,
     "start_time": "2021-11-24T03:27:24.033626",
     "status": "completed"
    },
    "tags": []
   },
   "source": [
    "# Titanic - Machine Learning from Disaster\n",
    "\n",
    "\n",
    "Build decision tree model to predict survival based on certain parameters\n",
    ">CSV file is available to download at  https://www.kaggle.com/c/titanic/data\n",
    "\n",
    "In this file using following columns build a model to predict if person would\n",
    "survive or not,\n",
    ">1. Pclass\n",
    ">2. Sex\n",
    ">3. Age\n",
    ">4. Fare\n",
    "\n",
    "Calculate score of your model."
   ]
  },
  {
   "cell_type": "code",
   "execution_count": 1,
   "id": "fed8b136",
   "metadata": {
    "execution": {
     "iopub.execute_input": "2021-11-24T03:27:24.374351Z",
     "iopub.status.busy": "2021-11-24T03:27:24.372842Z",
     "iopub.status.idle": "2021-11-24T03:27:25.952025Z",
     "shell.execute_reply": "2021-11-24T03:27:25.952580Z",
     "shell.execute_reply.started": "2021-11-24T01:34:51.736264Z"
    },
    "papermill": {
     "duration": 1.651184,
     "end_time": "2021-11-24T03:27:25.952910",
     "exception": false,
     "start_time": "2021-11-24T03:27:24.301726",
     "status": "completed"
    },
    "tags": []
   },
   "outputs": [
    {
     "name": "stdout",
     "output_type": "stream",
     "text": [
      "Setup Complete\n"
     ]
    }
   ],
   "source": [
    "import pandas as pd\n",
    "import numpy as np\n",
    "\n",
    "import matplotlib.pyplot as plt\n",
    "import seaborn as sns\n",
    "\n",
    "# metrics\n",
    "from sklearn.model_selection import cross_val_score\n",
    "from sklearn.metrics import mean_squared_error, median_absolute_error, r2_score\n",
    "from sklearn.metrics import accuracy_score, precision_score, recall_score, f1_score, classification_report, confusion_matrix\n",
    "\n",
    "# cross validation\n",
    "from sklearn.model_selection import GridSearchCV\n",
    "\n",
    "# split data\n",
    "from sklearn.model_selection import train_test_split\n",
    "\n",
    "# models\n",
    "from sklearn.linear_model import LogisticRegression\n",
    "from sklearn.tree import DecisionTreeClassifier\n",
    "from sklearn.ensemble import BaggingClassifier\n",
    "from sklearn.ensemble import RandomForestClassifier\n",
    "from sklearn.discriminant_analysis import LinearDiscriminantAnalysis, QuadraticDiscriminantAnalysis\n",
    "from sklearn.svm import SVC, LinearSVC\n",
    "from sklearn.naive_bayes import GaussianNB, MultinomialNB\n",
    "\n",
    "# Plots\n",
    "from sklearn.metrics import ConfusionMatrixDisplay\n",
    "\n",
    "# deprecation error \n",
    "import warnings \n",
    "warnings.filterwarnings('ignore')\n",
    "\n",
    "print(\"Setup Complete\")"
   ]
  },
  {
   "cell_type": "code",
   "execution_count": 2,
   "id": "466d5fdb",
   "metadata": {
    "execution": {
     "iopub.execute_input": "2021-11-24T03:27:26.044221Z",
     "iopub.status.busy": "2021-11-24T03:27:26.043630Z",
     "iopub.status.idle": "2021-11-24T03:27:26.088463Z",
     "shell.execute_reply": "2021-11-24T03:27:26.088898Z",
     "shell.execute_reply.started": "2021-11-24T01:34:51.750044Z"
    },
    "papermill": {
     "duration": 0.091743,
     "end_time": "2021-11-24T03:27:26.089048",
     "exception": false,
     "start_time": "2021-11-24T03:27:25.997305",
     "status": "completed"
    },
    "tags": []
   },
   "outputs": [],
   "source": [
    "# Reading the data\n",
    "train = pd.read_csv('titanic-data/train.csv', index_col = 'PassengerId')\n",
    "test = pd.read_csv('titanic-data/test.csv', index_col = 'PassengerId')"
   ]
  },
  {
   "cell_type": "code",
   "execution_count": 3,
   "id": "fb91ea55",
   "metadata": {
    "execution": {
     "iopub.execute_input": "2021-11-24T03:27:26.178051Z",
     "iopub.status.busy": "2021-11-24T03:27:26.177545Z",
     "iopub.status.idle": "2021-11-24T03:27:26.210577Z",
     "shell.execute_reply": "2021-11-24T03:27:26.210990Z",
     "shell.execute_reply.started": "2021-11-24T01:34:51.775118Z"
    },
    "papermill": {
     "duration": 0.07872,
     "end_time": "2021-11-24T03:27:26.211122",
     "exception": false,
     "start_time": "2021-11-24T03:27:26.132402",
     "status": "completed"
    },
    "tags": []
   },
   "outputs": [
    {
     "data": {
      "text/html": [
       "<div>\n",
       "<style scoped>\n",
       "    .dataframe tbody tr th:only-of-type {\n",
       "        vertical-align: middle;\n",
       "    }\n",
       "\n",
       "    .dataframe tbody tr th {\n",
       "        vertical-align: top;\n",
       "    }\n",
       "\n",
       "    .dataframe thead th {\n",
       "        text-align: right;\n",
       "    }\n",
       "</style>\n",
       "<table border=\"1\" class=\"dataframe\">\n",
       "  <thead>\n",
       "    <tr style=\"text-align: right;\">\n",
       "      <th></th>\n",
       "      <th>Survived</th>\n",
       "      <th>Pclass</th>\n",
       "      <th>Name</th>\n",
       "      <th>Sex</th>\n",
       "      <th>Age</th>\n",
       "      <th>SibSp</th>\n",
       "      <th>Parch</th>\n",
       "      <th>Ticket</th>\n",
       "      <th>Fare</th>\n",
       "      <th>Cabin</th>\n",
       "      <th>Embarked</th>\n",
       "    </tr>\n",
       "    <tr>\n",
       "      <th>PassengerId</th>\n",
       "      <th></th>\n",
       "      <th></th>\n",
       "      <th></th>\n",
       "      <th></th>\n",
       "      <th></th>\n",
       "      <th></th>\n",
       "      <th></th>\n",
       "      <th></th>\n",
       "      <th></th>\n",
       "      <th></th>\n",
       "      <th></th>\n",
       "    </tr>\n",
       "  </thead>\n",
       "  <tbody>\n",
       "    <tr>\n",
       "      <th>1</th>\n",
       "      <td>0</td>\n",
       "      <td>3</td>\n",
       "      <td>Braund, Mr. Owen Harris</td>\n",
       "      <td>male</td>\n",
       "      <td>22.0</td>\n",
       "      <td>1</td>\n",
       "      <td>0</td>\n",
       "      <td>A/5 21171</td>\n",
       "      <td>7.2500</td>\n",
       "      <td>NaN</td>\n",
       "      <td>S</td>\n",
       "    </tr>\n",
       "    <tr>\n",
       "      <th>2</th>\n",
       "      <td>1</td>\n",
       "      <td>1</td>\n",
       "      <td>Cumings, Mrs. John Bradley (Florence Briggs Th...</td>\n",
       "      <td>female</td>\n",
       "      <td>38.0</td>\n",
       "      <td>1</td>\n",
       "      <td>0</td>\n",
       "      <td>PC 17599</td>\n",
       "      <td>71.2833</td>\n",
       "      <td>C85</td>\n",
       "      <td>C</td>\n",
       "    </tr>\n",
       "  </tbody>\n",
       "</table>\n",
       "</div>"
      ],
      "text/plain": [
       "             Survived  Pclass  \\\n",
       "PassengerId                     \n",
       "1                   0       3   \n",
       "2                   1       1   \n",
       "\n",
       "                                                          Name     Sex   Age  \\\n",
       "PassengerId                                                                    \n",
       "1                                      Braund, Mr. Owen Harris    male  22.0   \n",
       "2            Cumings, Mrs. John Bradley (Florence Briggs Th...  female  38.0   \n",
       "\n",
       "             SibSp  Parch     Ticket     Fare Cabin Embarked  \n",
       "PassengerId                                                   \n",
       "1                1      0  A/5 21171   7.2500   NaN        S  \n",
       "2                1      0   PC 17599  71.2833   C85        C  "
      ]
     },
     "metadata": {},
     "output_type": "display_data"
    },
    {
     "data": {
      "text/html": [
       "<div>\n",
       "<style scoped>\n",
       "    .dataframe tbody tr th:only-of-type {\n",
       "        vertical-align: middle;\n",
       "    }\n",
       "\n",
       "    .dataframe tbody tr th {\n",
       "        vertical-align: top;\n",
       "    }\n",
       "\n",
       "    .dataframe thead th {\n",
       "        text-align: right;\n",
       "    }\n",
       "</style>\n",
       "<table border=\"1\" class=\"dataframe\">\n",
       "  <thead>\n",
       "    <tr style=\"text-align: right;\">\n",
       "      <th></th>\n",
       "      <th>Pclass</th>\n",
       "      <th>Name</th>\n",
       "      <th>Sex</th>\n",
       "      <th>Age</th>\n",
       "      <th>SibSp</th>\n",
       "      <th>Parch</th>\n",
       "      <th>Ticket</th>\n",
       "      <th>Fare</th>\n",
       "      <th>Cabin</th>\n",
       "      <th>Embarked</th>\n",
       "    </tr>\n",
       "    <tr>\n",
       "      <th>PassengerId</th>\n",
       "      <th></th>\n",
       "      <th></th>\n",
       "      <th></th>\n",
       "      <th></th>\n",
       "      <th></th>\n",
       "      <th></th>\n",
       "      <th></th>\n",
       "      <th></th>\n",
       "      <th></th>\n",
       "      <th></th>\n",
       "    </tr>\n",
       "  </thead>\n",
       "  <tbody>\n",
       "    <tr>\n",
       "      <th>892</th>\n",
       "      <td>3</td>\n",
       "      <td>Kelly, Mr. James</td>\n",
       "      <td>male</td>\n",
       "      <td>34.5</td>\n",
       "      <td>0</td>\n",
       "      <td>0</td>\n",
       "      <td>330911</td>\n",
       "      <td>7.8292</td>\n",
       "      <td>NaN</td>\n",
       "      <td>Q</td>\n",
       "    </tr>\n",
       "    <tr>\n",
       "      <th>893</th>\n",
       "      <td>3</td>\n",
       "      <td>Wilkes, Mrs. James (Ellen Needs)</td>\n",
       "      <td>female</td>\n",
       "      <td>47.0</td>\n",
       "      <td>1</td>\n",
       "      <td>0</td>\n",
       "      <td>363272</td>\n",
       "      <td>7.0000</td>\n",
       "      <td>NaN</td>\n",
       "      <td>S</td>\n",
       "    </tr>\n",
       "  </tbody>\n",
       "</table>\n",
       "</div>"
      ],
      "text/plain": [
       "             Pclass                              Name     Sex   Age  SibSp  \\\n",
       "PassengerId                                                                  \n",
       "892               3                  Kelly, Mr. James    male  34.5      0   \n",
       "893               3  Wilkes, Mrs. James (Ellen Needs)  female  47.0      1   \n",
       "\n",
       "             Parch  Ticket    Fare Cabin Embarked  \n",
       "PassengerId                                        \n",
       "892              0  330911  7.8292   NaN        Q  \n",
       "893              0  363272  7.0000   NaN        S  "
      ]
     },
     "metadata": {},
     "output_type": "display_data"
    },
    {
     "data": {
      "text/plain": [
       "(891, 11)"
      ]
     },
     "metadata": {},
     "output_type": "display_data"
    },
    {
     "data": {
      "text/plain": [
       "(418, 10)"
      ]
     },
     "metadata": {},
     "output_type": "display_data"
    }
   ],
   "source": [
    "display(train.head(2))\n",
    "display(test.head(2))\n",
    "display(train.shape)\n",
    "display(test.shape)"
   ]
  },
  {
   "cell_type": "code",
   "execution_count": 4,
   "id": "1f69a4f7",
   "metadata": {
    "execution": {
     "iopub.execute_input": "2021-11-24T03:27:26.355425Z",
     "iopub.status.busy": "2021-11-24T03:27:26.354906Z",
     "iopub.status.idle": "2021-11-24T03:27:26.401840Z",
     "shell.execute_reply": "2021-11-24T03:27:26.402365Z",
     "shell.execute_reply.started": "2021-11-24T01:34:51.811891Z"
    },
    "papermill": {
     "duration": 0.145924,
     "end_time": "2021-11-24T03:27:26.402532",
     "exception": false,
     "start_time": "2021-11-24T03:27:26.256608",
     "status": "completed"
    },
    "tags": []
   },
   "outputs": [
    {
     "data": {
      "text/html": [
       "<div>\n",
       "<style scoped>\n",
       "    .dataframe tbody tr th:only-of-type {\n",
       "        vertical-align: middle;\n",
       "    }\n",
       "\n",
       "    .dataframe tbody tr th {\n",
       "        vertical-align: top;\n",
       "    }\n",
       "\n",
       "    .dataframe thead th {\n",
       "        text-align: right;\n",
       "    }\n",
       "</style>\n",
       "<table border=\"1\" class=\"dataframe\">\n",
       "  <thead>\n",
       "    <tr style=\"text-align: right;\">\n",
       "      <th></th>\n",
       "      <th>Survived</th>\n",
       "      <th>Pclass</th>\n",
       "      <th>Age</th>\n",
       "      <th>SibSp</th>\n",
       "      <th>Parch</th>\n",
       "      <th>Fare</th>\n",
       "    </tr>\n",
       "  </thead>\n",
       "  <tbody>\n",
       "    <tr>\n",
       "      <th>count</th>\n",
       "      <td>891.000000</td>\n",
       "      <td>891.000000</td>\n",
       "      <td>714.000000</td>\n",
       "      <td>891.000000</td>\n",
       "      <td>891.000000</td>\n",
       "      <td>891.000000</td>\n",
       "    </tr>\n",
       "    <tr>\n",
       "      <th>mean</th>\n",
       "      <td>0.383838</td>\n",
       "      <td>2.308642</td>\n",
       "      <td>29.699118</td>\n",
       "      <td>0.523008</td>\n",
       "      <td>0.381594</td>\n",
       "      <td>32.204208</td>\n",
       "    </tr>\n",
       "    <tr>\n",
       "      <th>std</th>\n",
       "      <td>0.486592</td>\n",
       "      <td>0.836071</td>\n",
       "      <td>14.526497</td>\n",
       "      <td>1.102743</td>\n",
       "      <td>0.806057</td>\n",
       "      <td>49.693429</td>\n",
       "    </tr>\n",
       "    <tr>\n",
       "      <th>min</th>\n",
       "      <td>0.000000</td>\n",
       "      <td>1.000000</td>\n",
       "      <td>0.420000</td>\n",
       "      <td>0.000000</td>\n",
       "      <td>0.000000</td>\n",
       "      <td>0.000000</td>\n",
       "    </tr>\n",
       "    <tr>\n",
       "      <th>25%</th>\n",
       "      <td>0.000000</td>\n",
       "      <td>2.000000</td>\n",
       "      <td>20.125000</td>\n",
       "      <td>0.000000</td>\n",
       "      <td>0.000000</td>\n",
       "      <td>7.910400</td>\n",
       "    </tr>\n",
       "    <tr>\n",
       "      <th>50%</th>\n",
       "      <td>0.000000</td>\n",
       "      <td>3.000000</td>\n",
       "      <td>28.000000</td>\n",
       "      <td>0.000000</td>\n",
       "      <td>0.000000</td>\n",
       "      <td>14.454200</td>\n",
       "    </tr>\n",
       "    <tr>\n",
       "      <th>75%</th>\n",
       "      <td>1.000000</td>\n",
       "      <td>3.000000</td>\n",
       "      <td>38.000000</td>\n",
       "      <td>1.000000</td>\n",
       "      <td>0.000000</td>\n",
       "      <td>31.000000</td>\n",
       "    </tr>\n",
       "    <tr>\n",
       "      <th>max</th>\n",
       "      <td>1.000000</td>\n",
       "      <td>3.000000</td>\n",
       "      <td>80.000000</td>\n",
       "      <td>8.000000</td>\n",
       "      <td>6.000000</td>\n",
       "      <td>512.329200</td>\n",
       "    </tr>\n",
       "  </tbody>\n",
       "</table>\n",
       "</div>"
      ],
      "text/plain": [
       "         Survived      Pclass         Age       SibSp       Parch        Fare\n",
       "count  891.000000  891.000000  714.000000  891.000000  891.000000  891.000000\n",
       "mean     0.383838    2.308642   29.699118    0.523008    0.381594   32.204208\n",
       "std      0.486592    0.836071   14.526497    1.102743    0.806057   49.693429\n",
       "min      0.000000    1.000000    0.420000    0.000000    0.000000    0.000000\n",
       "25%      0.000000    2.000000   20.125000    0.000000    0.000000    7.910400\n",
       "50%      0.000000    3.000000   28.000000    0.000000    0.000000   14.454200\n",
       "75%      1.000000    3.000000   38.000000    1.000000    0.000000   31.000000\n",
       "max      1.000000    3.000000   80.000000    8.000000    6.000000  512.329200"
      ]
     },
     "metadata": {},
     "output_type": "display_data"
    },
    {
     "data": {
      "text/html": [
       "<div>\n",
       "<style scoped>\n",
       "    .dataframe tbody tr th:only-of-type {\n",
       "        vertical-align: middle;\n",
       "    }\n",
       "\n",
       "    .dataframe tbody tr th {\n",
       "        vertical-align: top;\n",
       "    }\n",
       "\n",
       "    .dataframe thead th {\n",
       "        text-align: right;\n",
       "    }\n",
       "</style>\n",
       "<table border=\"1\" class=\"dataframe\">\n",
       "  <thead>\n",
       "    <tr style=\"text-align: right;\">\n",
       "      <th></th>\n",
       "      <th>Pclass</th>\n",
       "      <th>Age</th>\n",
       "      <th>SibSp</th>\n",
       "      <th>Parch</th>\n",
       "      <th>Fare</th>\n",
       "    </tr>\n",
       "  </thead>\n",
       "  <tbody>\n",
       "    <tr>\n",
       "      <th>count</th>\n",
       "      <td>418.000000</td>\n",
       "      <td>332.000000</td>\n",
       "      <td>418.000000</td>\n",
       "      <td>418.000000</td>\n",
       "      <td>417.000000</td>\n",
       "    </tr>\n",
       "    <tr>\n",
       "      <th>mean</th>\n",
       "      <td>2.265550</td>\n",
       "      <td>30.272590</td>\n",
       "      <td>0.447368</td>\n",
       "      <td>0.392344</td>\n",
       "      <td>35.627188</td>\n",
       "    </tr>\n",
       "    <tr>\n",
       "      <th>std</th>\n",
       "      <td>0.841838</td>\n",
       "      <td>14.181209</td>\n",
       "      <td>0.896760</td>\n",
       "      <td>0.981429</td>\n",
       "      <td>55.907576</td>\n",
       "    </tr>\n",
       "    <tr>\n",
       "      <th>min</th>\n",
       "      <td>1.000000</td>\n",
       "      <td>0.170000</td>\n",
       "      <td>0.000000</td>\n",
       "      <td>0.000000</td>\n",
       "      <td>0.000000</td>\n",
       "    </tr>\n",
       "    <tr>\n",
       "      <th>25%</th>\n",
       "      <td>1.000000</td>\n",
       "      <td>21.000000</td>\n",
       "      <td>0.000000</td>\n",
       "      <td>0.000000</td>\n",
       "      <td>7.895800</td>\n",
       "    </tr>\n",
       "    <tr>\n",
       "      <th>50%</th>\n",
       "      <td>3.000000</td>\n",
       "      <td>27.000000</td>\n",
       "      <td>0.000000</td>\n",
       "      <td>0.000000</td>\n",
       "      <td>14.454200</td>\n",
       "    </tr>\n",
       "    <tr>\n",
       "      <th>75%</th>\n",
       "      <td>3.000000</td>\n",
       "      <td>39.000000</td>\n",
       "      <td>1.000000</td>\n",
       "      <td>0.000000</td>\n",
       "      <td>31.500000</td>\n",
       "    </tr>\n",
       "    <tr>\n",
       "      <th>max</th>\n",
       "      <td>3.000000</td>\n",
       "      <td>76.000000</td>\n",
       "      <td>8.000000</td>\n",
       "      <td>9.000000</td>\n",
       "      <td>512.329200</td>\n",
       "    </tr>\n",
       "  </tbody>\n",
       "</table>\n",
       "</div>"
      ],
      "text/plain": [
       "           Pclass         Age       SibSp       Parch        Fare\n",
       "count  418.000000  332.000000  418.000000  418.000000  417.000000\n",
       "mean     2.265550   30.272590    0.447368    0.392344   35.627188\n",
       "std      0.841838   14.181209    0.896760    0.981429   55.907576\n",
       "min      1.000000    0.170000    0.000000    0.000000    0.000000\n",
       "25%      1.000000   21.000000    0.000000    0.000000    7.895800\n",
       "50%      3.000000   27.000000    0.000000    0.000000   14.454200\n",
       "75%      3.000000   39.000000    1.000000    0.000000   31.500000\n",
       "max      3.000000   76.000000    8.000000    9.000000  512.329200"
      ]
     },
     "metadata": {},
     "output_type": "display_data"
    }
   ],
   "source": [
    "display(train.describe())\n",
    "display(test.describe())"
   ]
  },
  {
   "cell_type": "code",
   "execution_count": 5,
   "id": "f5490e88",
   "metadata": {
    "execution": {
     "iopub.execute_input": "2021-11-24T03:27:26.548503Z",
     "iopub.status.busy": "2021-11-24T03:27:26.547851Z",
     "iopub.status.idle": "2021-11-24T03:27:26.572758Z",
     "shell.execute_reply": "2021-11-24T03:27:26.573180Z",
     "shell.execute_reply.started": "2021-11-24T01:34:51.872203Z"
    },
    "papermill": {
     "duration": 0.10044,
     "end_time": "2021-11-24T03:27:26.573334",
     "exception": false,
     "start_time": "2021-11-24T03:27:26.472894",
     "status": "completed"
    },
    "tags": []
   },
   "outputs": [
    {
     "name": "stdout",
     "output_type": "stream",
     "text": [
      "<class 'pandas.core.frame.DataFrame'>\n",
      "Int64Index: 891 entries, 1 to 891\n",
      "Data columns (total 11 columns):\n",
      " #   Column    Non-Null Count  Dtype  \n",
      "---  ------    --------------  -----  \n",
      " 0   Survived  891 non-null    int64  \n",
      " 1   Pclass    891 non-null    int64  \n",
      " 2   Name      891 non-null    object \n",
      " 3   Sex       891 non-null    object \n",
      " 4   Age       714 non-null    float64\n",
      " 5   SibSp     891 non-null    int64  \n",
      " 6   Parch     891 non-null    int64  \n",
      " 7   Ticket    891 non-null    object \n",
      " 8   Fare      891 non-null    float64\n",
      " 9   Cabin     204 non-null    object \n",
      " 10  Embarked  889 non-null    object \n",
      "dtypes: float64(2), int64(4), object(5)\n",
      "memory usage: 83.5+ KB\n"
     ]
    },
    {
     "data": {
      "text/plain": [
       "None"
      ]
     },
     "metadata": {},
     "output_type": "display_data"
    },
    {
     "name": "stdout",
     "output_type": "stream",
     "text": [
      "<class 'pandas.core.frame.DataFrame'>\n",
      "Int64Index: 418 entries, 892 to 1309\n",
      "Data columns (total 10 columns):\n",
      " #   Column    Non-Null Count  Dtype  \n",
      "---  ------    --------------  -----  \n",
      " 0   Pclass    418 non-null    int64  \n",
      " 1   Name      418 non-null    object \n",
      " 2   Sex       418 non-null    object \n",
      " 3   Age       332 non-null    float64\n",
      " 4   SibSp     418 non-null    int64  \n",
      " 5   Parch     418 non-null    int64  \n",
      " 6   Ticket    418 non-null    object \n",
      " 7   Fare      417 non-null    float64\n",
      " 8   Cabin     91 non-null     object \n",
      " 9   Embarked  418 non-null    object \n",
      "dtypes: float64(2), int64(3), object(5)\n",
      "memory usage: 35.9+ KB\n"
     ]
    },
    {
     "data": {
      "text/plain": [
       "None"
      ]
     },
     "metadata": {},
     "output_type": "display_data"
    }
   ],
   "source": [
    "display(train.info())\n",
    "display(test.info())"
   ]
  },
  {
   "cell_type": "markdown",
   "id": "8b294cbb",
   "metadata": {
    "papermill": {
     "duration": 0.048321,
     "end_time": "2021-11-24T03:27:26.669967",
     "exception": false,
     "start_time": "2021-11-24T03:27:26.621646",
     "status": "completed"
    },
    "tags": []
   },
   "source": [
    "2. <a id=\"2\"></a> <br>\n",
    "# Deriving variables"
   ]
  },
  {
   "cell_type": "code",
   "execution_count": 6,
   "id": "25b8c022",
   "metadata": {
    "execution": {
     "iopub.execute_input": "2021-11-24T03:27:26.788585Z",
     "iopub.status.busy": "2021-11-24T03:27:26.770182Z",
     "iopub.status.idle": "2021-11-24T03:27:26.794238Z",
     "shell.execute_reply": "2021-11-24T03:27:26.794750Z",
     "shell.execute_reply.started": "2021-11-24T01:34:51.904667Z"
    },
    "papermill": {
     "duration": 0.07594,
     "end_time": "2021-11-24T03:27:26.794908",
     "exception": false,
     "start_time": "2021-11-24T03:27:26.718968",
     "status": "completed"
    },
    "tags": []
   },
   "outputs": [
    {
     "data": {
      "text/plain": [
       " Mr              517\n",
       " Miss            182\n",
       " Mrs             125\n",
       " Master           40\n",
       " Dr                7\n",
       " Rev               6\n",
       " Mlle              2\n",
       " Major             2\n",
       " Col               2\n",
       " the Countess      1\n",
       " Capt              1\n",
       " Ms                1\n",
       " Sir               1\n",
       " Lady              1\n",
       " Mme               1\n",
       " Don               1\n",
       " Jonkheer          1\n",
       "Name: Title, dtype: int64"
      ]
     },
     "metadata": {},
     "output_type": "display_data"
    },
    {
     "data": {
      "text/plain": [
       " Mr        240\n",
       " Miss       78\n",
       " Mrs        72\n",
       " Master     21\n",
       " Col         2\n",
       " Rev         2\n",
       " Ms          1\n",
       " Dr          1\n",
       " Dona        1\n",
       "Name: Title, dtype: int64"
      ]
     },
     "metadata": {},
     "output_type": "display_data"
    }
   ],
   "source": [
    "train['Title'] = train['Name'].str.rsplit(',').str[1]\n",
    "train['Title'] = train['Title'].str.rsplit('.').str[0]\n",
    "\n",
    "test['Title'] = test['Name'].str.rsplit(',').str[1]\n",
    "test['Title'] = test['Title'].str.rsplit('.').str[0]\n",
    "\n",
    "display(train['Title'].value_counts())\n",
    "display(test['Title'].value_counts())"
   ]
  },
  {
   "cell_type": "code",
   "execution_count": 7,
   "id": "9bac1e13",
   "metadata": {
    "execution": {
     "iopub.execute_input": "2021-11-24T03:27:26.893913Z",
     "iopub.status.busy": "2021-11-24T03:27:26.893441Z",
     "iopub.status.idle": "2021-11-24T03:27:27.283549Z",
     "shell.execute_reply": "2021-11-24T03:27:27.284020Z",
     "shell.execute_reply.started": "2021-11-24T01:34:51.934221Z"
    },
    "papermill": {
     "duration": 0.440858,
     "end_time": "2021-11-24T03:27:27.284154",
     "exception": false,
     "start_time": "2021-11-24T03:27:26.843296",
     "status": "completed"
    },
    "tags": []
   },
   "outputs": [
    {
     "data": {
      "text/plain": [
       "Common      829\n",
       "Uncommon     62\n",
       "Name: Title, dtype: int64"
      ]
     },
     "metadata": {},
     "output_type": "display_data"
    },
    {
     "data": {
      "text/plain": [
       "Common      392\n",
       "Uncommon     26\n",
       "Name: Title, dtype: int64"
      ]
     },
     "metadata": {},
     "output_type": "display_data"
    }
   ],
   "source": [
    "common = [' Mr',' Miss',' Mrs',' Mlle',' Ms',' Mme',' Don',' Dona']\n",
    "\n",
    "for i, row in train.iterrows():\n",
    "    if row['Title'] in common:\n",
    "            train.loc[i,'Title'] = 'Common'\n",
    "    else:\n",
    "        train.loc[i,'Title'] = 'Uncommon'\n",
    "\n",
    "for i, row in test.iterrows():\n",
    "    if row['Title'] in common:\n",
    "        test.loc[i,'Title'] = 'Common'\n",
    "    else:\n",
    "        test.loc[i,'Title'] = 'Uncommon'\n",
    "\n",
    "display(train['Title'].value_counts())\n",
    "display(test['Title'].value_counts())"
   ]
  },
  {
   "cell_type": "code",
   "execution_count": 8,
   "id": "40a17e99",
   "metadata": {
    "execution": {
     "iopub.execute_input": "2021-11-24T03:27:27.386943Z",
     "iopub.status.busy": "2021-11-24T03:27:27.386450Z",
     "iopub.status.idle": "2021-11-24T03:27:27.401353Z",
     "shell.execute_reply": "2021-11-24T03:27:27.401723Z",
     "shell.execute_reply.started": "2021-11-24T01:34:52.460956Z"
    },
    "papermill": {
     "duration": 0.068339,
     "end_time": "2021-11-24T03:27:27.401860",
     "exception": false,
     "start_time": "2021-11-24T03:27:27.333521",
     "status": "completed"
    },
    "tags": []
   },
   "outputs": [
    {
     "data": {
      "text/plain": [
       "count    891.000000\n",
       "mean       0.904602\n",
       "std        1.613459\n",
       "min        0.000000\n",
       "25%        0.000000\n",
       "50%        0.000000\n",
       "75%        1.000000\n",
       "max       10.000000\n",
       "Name: FamSize, dtype: float64"
      ]
     },
     "metadata": {},
     "output_type": "display_data"
    },
    {
     "data": {
      "text/plain": [
       "count    418.000000\n",
       "mean       0.839713\n",
       "std        1.519072\n",
       "min        0.000000\n",
       "25%        0.000000\n",
       "50%        0.000000\n",
       "75%        1.000000\n",
       "max       10.000000\n",
       "Name: FamSize, dtype: float64"
      ]
     },
     "metadata": {},
     "output_type": "display_data"
    }
   ],
   "source": [
    "train['FamSize'] = train['SibSp'] + train['Parch']\n",
    "test['FamSize'] = test['SibSp'] + test['Parch']\n",
    "\n",
    "display(train['FamSize'].describe())\n",
    "display(test['FamSize'].describe())"
   ]
  },
  {
   "cell_type": "code",
   "execution_count": 9,
   "id": "5159138d",
   "metadata": {
    "execution": {
     "iopub.execute_input": "2021-11-24T03:27:27.502732Z",
     "iopub.status.busy": "2021-11-24T03:27:27.502252Z",
     "iopub.status.idle": "2021-11-24T03:27:27.525604Z",
     "shell.execute_reply": "2021-11-24T03:27:27.526077Z",
     "shell.execute_reply.started": "2021-11-24T01:34:52.485789Z"
    },
    "papermill": {
     "duration": 0.075407,
     "end_time": "2021-11-24T03:27:27.526217",
     "exception": false,
     "start_time": "2021-11-24T03:27:27.450810",
     "status": "completed"
    },
    "tags": []
   },
   "outputs": [
    {
     "data": {
      "text/html": [
       "<div>\n",
       "<style scoped>\n",
       "    .dataframe tbody tr th:only-of-type {\n",
       "        vertical-align: middle;\n",
       "    }\n",
       "\n",
       "    .dataframe tbody tr th {\n",
       "        vertical-align: top;\n",
       "    }\n",
       "\n",
       "    .dataframe thead th {\n",
       "        text-align: right;\n",
       "    }\n",
       "</style>\n",
       "<table border=\"1\" class=\"dataframe\">\n",
       "  <thead>\n",
       "    <tr style=\"text-align: right;\">\n",
       "      <th></th>\n",
       "      <th>Survived</th>\n",
       "      <th>Pclass</th>\n",
       "      <th>Sex</th>\n",
       "      <th>Age</th>\n",
       "      <th>Fare</th>\n",
       "      <th>Embarked</th>\n",
       "      <th>Title</th>\n",
       "      <th>FamSize</th>\n",
       "    </tr>\n",
       "    <tr>\n",
       "      <th>PassengerId</th>\n",
       "      <th></th>\n",
       "      <th></th>\n",
       "      <th></th>\n",
       "      <th></th>\n",
       "      <th></th>\n",
       "      <th></th>\n",
       "      <th></th>\n",
       "      <th></th>\n",
       "    </tr>\n",
       "  </thead>\n",
       "  <tbody>\n",
       "    <tr>\n",
       "      <th>1</th>\n",
       "      <td>0</td>\n",
       "      <td>3</td>\n",
       "      <td>male</td>\n",
       "      <td>22.0</td>\n",
       "      <td>7.2500</td>\n",
       "      <td>S</td>\n",
       "      <td>Common</td>\n",
       "      <td>1</td>\n",
       "    </tr>\n",
       "    <tr>\n",
       "      <th>2</th>\n",
       "      <td>1</td>\n",
       "      <td>1</td>\n",
       "      <td>female</td>\n",
       "      <td>38.0</td>\n",
       "      <td>71.2833</td>\n",
       "      <td>C</td>\n",
       "      <td>Common</td>\n",
       "      <td>1</td>\n",
       "    </tr>\n",
       "  </tbody>\n",
       "</table>\n",
       "</div>"
      ],
      "text/plain": [
       "             Survived  Pclass     Sex   Age     Fare Embarked   Title  FamSize\n",
       "PassengerId                                                                   \n",
       "1                   0       3    male  22.0   7.2500        S  Common        1\n",
       "2                   1       1  female  38.0  71.2833        C  Common        1"
      ]
     },
     "metadata": {},
     "output_type": "display_data"
    },
    {
     "data": {
      "text/html": [
       "<div>\n",
       "<style scoped>\n",
       "    .dataframe tbody tr th:only-of-type {\n",
       "        vertical-align: middle;\n",
       "    }\n",
       "\n",
       "    .dataframe tbody tr th {\n",
       "        vertical-align: top;\n",
       "    }\n",
       "\n",
       "    .dataframe thead th {\n",
       "        text-align: right;\n",
       "    }\n",
       "</style>\n",
       "<table border=\"1\" class=\"dataframe\">\n",
       "  <thead>\n",
       "    <tr style=\"text-align: right;\">\n",
       "      <th></th>\n",
       "      <th>Pclass</th>\n",
       "      <th>Sex</th>\n",
       "      <th>Age</th>\n",
       "      <th>Fare</th>\n",
       "      <th>Embarked</th>\n",
       "      <th>Title</th>\n",
       "      <th>FamSize</th>\n",
       "    </tr>\n",
       "    <tr>\n",
       "      <th>PassengerId</th>\n",
       "      <th></th>\n",
       "      <th></th>\n",
       "      <th></th>\n",
       "      <th></th>\n",
       "      <th></th>\n",
       "      <th></th>\n",
       "      <th></th>\n",
       "    </tr>\n",
       "  </thead>\n",
       "  <tbody>\n",
       "    <tr>\n",
       "      <th>892</th>\n",
       "      <td>3</td>\n",
       "      <td>male</td>\n",
       "      <td>34.5</td>\n",
       "      <td>7.8292</td>\n",
       "      <td>Q</td>\n",
       "      <td>Common</td>\n",
       "      <td>0</td>\n",
       "    </tr>\n",
       "    <tr>\n",
       "      <th>893</th>\n",
       "      <td>3</td>\n",
       "      <td>female</td>\n",
       "      <td>47.0</td>\n",
       "      <td>7.0000</td>\n",
       "      <td>S</td>\n",
       "      <td>Common</td>\n",
       "      <td>1</td>\n",
       "    </tr>\n",
       "  </tbody>\n",
       "</table>\n",
       "</div>"
      ],
      "text/plain": [
       "             Pclass     Sex   Age    Fare Embarked   Title  FamSize\n",
       "PassengerId                                                        \n",
       "892               3    male  34.5  7.8292        Q  Common        0\n",
       "893               3  female  47.0  7.0000        S  Common        1"
      ]
     },
     "metadata": {},
     "output_type": "display_data"
    }
   ],
   "source": [
    "#Droping unnecesary variables\n",
    "train.drop(['Name','SibSp','Parch','Ticket','Cabin'], axis = 1, inplace = True)\n",
    "test.drop(['Name','SibSp','Parch','Ticket','Cabin'], axis = 1, inplace = True)\n",
    "\n",
    "display(train.head(2))\n",
    "display(test.head(2))"
   ]
  },
  {
   "cell_type": "markdown",
   "id": "34c33ce5",
   "metadata": {
    "papermill": {
     "duration": 0.049465,
     "end_time": "2021-11-24T03:27:27.625636",
     "exception": false,
     "start_time": "2021-11-24T03:27:27.576171",
     "status": "completed"
    },
    "tags": []
   },
   "source": [
    "3. <a id=\"3\"></a> <br>\n",
    "# Handling missing values"
   ]
  },
  {
   "cell_type": "code",
   "execution_count": 10,
   "id": "40c8a78c",
   "metadata": {
    "execution": {
     "iopub.execute_input": "2021-11-24T03:27:27.728082Z",
     "iopub.status.busy": "2021-11-24T03:27:27.727632Z",
     "iopub.status.idle": "2021-11-24T03:27:27.747020Z",
     "shell.execute_reply": "2021-11-24T03:27:27.746407Z",
     "shell.execute_reply.started": "2021-11-24T01:34:52.517758Z"
    },
    "papermill": {
     "duration": 0.071566,
     "end_time": "2021-11-24T03:27:27.747163",
     "exception": false,
     "start_time": "2021-11-24T03:27:27.675597",
     "status": "completed"
    },
    "tags": []
   },
   "outputs": [
    {
     "name": "stdout",
     "output_type": "stream",
     "text": [
      "<class 'pandas.core.frame.DataFrame'>\n",
      "Int64Index: 1309 entries, 1 to 1309\n",
      "Data columns (total 8 columns):\n",
      " #   Column    Non-Null Count  Dtype  \n",
      "---  ------    --------------  -----  \n",
      " 0   Survived  891 non-null    float64\n",
      " 1   Pclass    1309 non-null   int64  \n",
      " 2   Sex       1309 non-null   object \n",
      " 3   Age       1046 non-null   float64\n",
      " 4   Fare      1308 non-null   float64\n",
      " 5   Embarked  1307 non-null   object \n",
      " 6   Title     1309 non-null   object \n",
      " 7   FamSize   1309 non-null   int64  \n",
      "dtypes: float64(3), int64(2), object(3)\n",
      "memory usage: 92.0+ KB\n"
     ]
    },
    {
     "data": {
      "text/plain": [
       "None"
      ]
     },
     "metadata": {},
     "output_type": "display_data"
    },
    {
     "data": {
      "text/plain": [
       "(1309, 8)"
      ]
     },
     "metadata": {},
     "output_type": "display_data"
    }
   ],
   "source": [
    "df = pd.concat([train,test])\n",
    "\n",
    "display(df.info())\n",
    "display(df.shape)"
   ]
  },
  {
   "cell_type": "code",
   "execution_count": 11,
   "id": "6e170a3d",
   "metadata": {
    "execution": {
     "iopub.execute_input": "2021-11-24T03:27:27.909465Z",
     "iopub.status.busy": "2021-11-24T03:27:27.908700Z",
     "iopub.status.idle": "2021-11-24T03:27:28.413202Z",
     "shell.execute_reply": "2021-11-24T03:27:28.412688Z",
     "shell.execute_reply.started": "2021-11-24T01:34:52.540986Z"
    },
    "papermill": {
     "duration": 0.586874,
     "end_time": "2021-11-24T03:27:28.413336",
     "exception": false,
     "start_time": "2021-11-24T03:27:27.826462",
     "status": "completed"
    },
    "tags": []
   },
   "outputs": [
    {
     "data": {
      "image/png": "[encoded data removed]",
      "text/plain": [
       "<Figure size 432x288 with 1 Axes>"
      ]
     },
     "metadata": {
      "needs_background": "light"
     },
     "output_type": "display_data"
    },
    {
     "data": {
      "image/png": "[encoded data removed]",
      "text/plain": [
       "<Figure size 432x288 with 1 Axes>"
      ]
     },
     "metadata": {
      "needs_background": "light"
     },
     "output_type": "display_data"
    }
   ],
   "source": [
    "# Imputing meadian and mode in null values\n",
    "mean_age = df['Age'].mean()\n",
    "median_age = df['Age'].median()\n",
    "\n",
    "sns.distplot(df['Age'])\n",
    "plt.axvline(x=mean_age, linewidth=3, color='g', label=\"mean\", alpha=0.5)\n",
    "plt.axvline(x=median_age, linewidth=3, color='y', label=\"median\", alpha=0.5)\n",
    "plt.show()\n",
    "\n",
    "mean_fare = df['Fare'].mean()\n",
    "median_fare = df['Fare'].median()\n",
    "\n",
    "sns.distplot(df['Fare'])\n",
    "plt.axvline(x=mean_fare, linewidth=3, color='g', label=\"mean\", alpha=0.5)\n",
    "plt.axvline(x=median_fare, linewidth=3, color='y', label=\"median\", alpha=0.5)\n",
    "plt.show()\n",
    "\n",
    "mode_embarked = df['Embarked'].mode()\n",
    "\n",
    "df['Age'].fillna(value=median_age, inplace=True)\n",
    "df['Fare'].fillna(value=median_fare, inplace=True)\n",
    "df['Embarked'].fillna(value=mode_embarked[0], inplace=True)"
   ]
  },
  {
   "cell_type": "code",
   "execution_count": 12,
   "id": "e318a7b5",
   "metadata": {
    "execution": {
     "iopub.execute_input": "2021-11-24T03:27:28.521699Z",
     "iopub.status.busy": "2021-11-24T03:27:28.521064Z",
     "iopub.status.idle": "2021-11-24T03:27:28.532115Z",
     "shell.execute_reply": "2021-11-24T03:27:28.532480Z",
     "shell.execute_reply.started": "2021-11-24T01:34:53.266855Z"
    },
    "papermill": {
     "duration": 0.06678,
     "end_time": "2021-11-24T03:27:28.532614",
     "exception": false,
     "start_time": "2021-11-24T03:27:28.465834",
     "status": "completed"
    },
    "tags": []
   },
   "outputs": [
    {
     "name": "stdout",
     "output_type": "stream",
     "text": [
      "<class 'pandas.core.frame.DataFrame'>\n",
      "Int64Index: 1309 entries, 1 to 1309\n",
      "Data columns (total 8 columns):\n",
      " #   Column    Non-Null Count  Dtype  \n",
      "---  ------    --------------  -----  \n",
      " 0   Survived  891 non-null    float64\n",
      " 1   Pclass    1309 non-null   int64  \n",
      " 2   Sex       1309 non-null   object \n",
      " 3   Age       1309 non-null   float64\n",
      " 4   Fare      1309 non-null   float64\n",
      " 5   Embarked  1309 non-null   object \n",
      " 6   Title     1309 non-null   object \n",
      " 7   FamSize   1309 non-null   int64  \n",
      "dtypes: float64(3), int64(2), object(3)\n",
      "memory usage: 92.0+ KB\n"
     ]
    },
    {
     "data": {
      "text/plain": [
       "None"
      ]
     },
     "metadata": {},
     "output_type": "display_data"
    }
   ],
   "source": [
    "# No more missing values\n",
    "display(df.info())"
   ]
  },
  {
   "cell_type": "code",
   "execution_count": 13,
   "id": "45baaa57",
   "metadata": {
    "execution": {
     "iopub.execute_input": "2021-11-24T03:27:28.641162Z",
     "iopub.status.busy": "2021-11-24T03:27:28.640479Z",
     "iopub.status.idle": "2021-11-24T03:27:28.663347Z",
     "shell.execute_reply": "2021-11-24T03:27:28.662824Z",
     "shell.execute_reply.started": "2021-11-24T01:34:53.284461Z"
    },
    "papermill": {
     "duration": 0.077957,
     "end_time": "2021-11-24T03:27:28.663463",
     "exception": false,
     "start_time": "2021-11-24T03:27:28.585506",
     "status": "completed"
    },
    "tags": []
   },
   "outputs": [
    {
     "name": "stdout",
     "output_type": "stream",
     "text": [
      "<class 'pandas.core.frame.DataFrame'>\n",
      "Int64Index: 891 entries, 1 to 891\n",
      "Data columns (total 8 columns):\n",
      " #   Column    Non-Null Count  Dtype  \n",
      "---  ------    --------------  -----  \n",
      " 0   Survived  891 non-null    float64\n",
      " 1   Pclass    891 non-null    int64  \n",
      " 2   Sex       891 non-null    object \n",
      " 3   Age       891 non-null    float64\n",
      " 4   Fare      891 non-null    float64\n",
      " 5   Embarked  891 non-null    object \n",
      " 6   Title     891 non-null    object \n",
      " 7   FamSize   891 non-null    int64  \n",
      "dtypes: float64(3), int64(2), object(3)\n",
      "memory usage: 62.6+ KB\n"
     ]
    },
    {
     "data": {
      "text/plain": [
       "None"
      ]
     },
     "metadata": {},
     "output_type": "display_data"
    },
    {
     "name": "stdout",
     "output_type": "stream",
     "text": [
      "<class 'pandas.core.frame.DataFrame'>\n",
      "Int64Index: 418 entries, 892 to 1309\n",
      "Data columns (total 7 columns):\n",
      " #   Column    Non-Null Count  Dtype  \n",
      "---  ------    --------------  -----  \n",
      " 0   Pclass    418 non-null    int64  \n",
      " 1   Sex       418 non-null    object \n",
      " 2   Age       418 non-null    float64\n",
      " 3   Fare      418 non-null    float64\n",
      " 4   Embarked  418 non-null    object \n",
      " 5   Title     418 non-null    object \n",
      " 6   FamSize   418 non-null    int64  \n",
      "dtypes: float64(2), int64(2), object(3)\n",
      "memory usage: 26.1+ KB\n"
     ]
    },
    {
     "data": {
      "text/plain": [
       "None"
      ]
     },
     "metadata": {},
     "output_type": "display_data"
    }
   ],
   "source": [
    "# splitting the Data again\n",
    "train = df.iloc[0:891,:]\n",
    "test = df.iloc[891:1309,:].drop('Survived',axis = 1)\n",
    "display(train.info())\n",
    "display(test.info())"
   ]
  },
  {
   "cell_type": "markdown",
   "id": "fbd9c256",
   "metadata": {
    "papermill": {
     "duration": 0.05508,
     "end_time": "2021-11-24T03:27:28.773741",
     "exception": false,
     "start_time": "2021-11-24T03:27:28.718661",
     "status": "completed"
    },
    "tags": []
   },
   "source": [
    "4. <a id=\"4\"></a> <br>\n",
    "# Exploratory Data Analysis"
   ]
  },
  {
   "cell_type": "code",
   "execution_count": 14,
   "id": "10d3c8ee",
   "metadata": {
    "execution": {
     "iopub.execute_input": "2021-11-24T03:27:28.892562Z",
     "iopub.status.busy": "2021-11-24T03:27:28.892047Z",
     "iopub.status.idle": "2021-11-24T03:27:28.895091Z",
     "shell.execute_reply": "2021-11-24T03:27:28.894560Z",
     "shell.execute_reply.started": "2021-11-24T01:34:53.322611Z"
    },
    "papermill": {
     "duration": 0.066469,
     "end_time": "2021-11-24T03:27:28.895202",
     "exception": false,
     "start_time": "2021-11-24T03:27:28.828733",
     "status": "completed"
    },
    "tags": []
   },
   "outputs": [
    {
     "name": "stdout",
     "output_type": "stream",
     "text": [
      "['Sex', 'Embarked', 'Title'] \n",
      " ['Pclass', 'Age', 'Fare', 'FamSize']\n"
     ]
    }
   ],
   "source": [
    "categoricals = []\n",
    "numericals = []\n",
    "for column in train.columns.drop('Survived'):\n",
    "    if train[column].dtype == 'object':\n",
    "        categoricals.append(train[column].name)\n",
    "    else:\n",
    "        numericals.append(train[column].name)\n",
    "print(categoricals, '\\n', numericals)"
   ]
  },
  {
   "cell_type": "code",
   "execution_count": 15,
   "id": "27be53fc",
   "metadata": {
    "execution": {
     "iopub.execute_input": "2021-11-24T03:27:29.017585Z",
     "iopub.status.busy": "2021-11-24T03:27:29.015033Z",
     "iopub.status.idle": "2021-11-24T03:27:29.032958Z",
     "shell.execute_reply": "2021-11-24T03:27:29.033482Z",
     "shell.execute_reply.started": "2021-11-24T01:34:53.333104Z"
    },
    "papermill": {
     "duration": 0.08295,
     "end_time": "2021-11-24T03:27:29.033663",
     "exception": false,
     "start_time": "2021-11-24T03:27:28.950713",
     "status": "completed"
    },
    "tags": []
   },
   "outputs": [
    {
     "data": {
      "text/html": [
       "<div>\n",
       "<style scoped>\n",
       "    .dataframe tbody tr th:only-of-type {\n",
       "        vertical-align: middle;\n",
       "    }\n",
       "\n",
       "    .dataframe tbody tr th {\n",
       "        vertical-align: top;\n",
       "    }\n",
       "\n",
       "    .dataframe thead th {\n",
       "        text-align: right;\n",
       "    }\n",
       "</style>\n",
       "<table border=\"1\" class=\"dataframe\">\n",
       "  <thead>\n",
       "    <tr style=\"text-align: right;\">\n",
       "      <th></th>\n",
       "      <th>Sex</th>\n",
       "      <th>Embarked</th>\n",
       "      <th>Title</th>\n",
       "      <th>Pclass</th>\n",
       "      <th>FamSize</th>\n",
       "    </tr>\n",
       "    <tr>\n",
       "      <th>PassengerId</th>\n",
       "      <th></th>\n",
       "      <th></th>\n",
       "      <th></th>\n",
       "      <th></th>\n",
       "      <th></th>\n",
       "    </tr>\n",
       "  </thead>\n",
       "  <tbody>\n",
       "    <tr>\n",
       "      <th>1</th>\n",
       "      <td>male</td>\n",
       "      <td>S</td>\n",
       "      <td>Common</td>\n",
       "      <td>3</td>\n",
       "      <td>1</td>\n",
       "    </tr>\n",
       "    <tr>\n",
       "      <th>2</th>\n",
       "      <td>female</td>\n",
       "      <td>C</td>\n",
       "      <td>Common</td>\n",
       "      <td>1</td>\n",
       "      <td>1</td>\n",
       "    </tr>\n",
       "  </tbody>\n",
       "</table>\n",
       "</div>"
      ],
      "text/plain": [
       "                Sex Embarked   Title  Pclass  FamSize\n",
       "PassengerId                                          \n",
       "1              male        S  Common       3        1\n",
       "2            female        C  Common       1        1"
      ]
     },
     "metadata": {},
     "output_type": "display_data"
    },
    {
     "data": {
      "text/html": [
       "<div>\n",
       "<style scoped>\n",
       "    .dataframe tbody tr th:only-of-type {\n",
       "        vertical-align: middle;\n",
       "    }\n",
       "\n",
       "    .dataframe tbody tr th {\n",
       "        vertical-align: top;\n",
       "    }\n",
       "\n",
       "    .dataframe thead th {\n",
       "        text-align: right;\n",
       "    }\n",
       "</style>\n",
       "<table border=\"1\" class=\"dataframe\">\n",
       "  <thead>\n",
       "    <tr style=\"text-align: right;\">\n",
       "      <th></th>\n",
       "      <th>Age</th>\n",
       "      <th>Fare</th>\n",
       "    </tr>\n",
       "    <tr>\n",
       "      <th>PassengerId</th>\n",
       "      <th></th>\n",
       "      <th></th>\n",
       "    </tr>\n",
       "  </thead>\n",
       "  <tbody>\n",
       "    <tr>\n",
       "      <th>1</th>\n",
       "      <td>22.0</td>\n",
       "      <td>7.2500</td>\n",
       "    </tr>\n",
       "    <tr>\n",
       "      <th>2</th>\n",
       "      <td>38.0</td>\n",
       "      <td>71.2833</td>\n",
       "    </tr>\n",
       "  </tbody>\n",
       "</table>\n",
       "</div>"
      ],
      "text/plain": [
       "              Age     Fare\n",
       "PassengerId               \n",
       "1            22.0   7.2500\n",
       "2            38.0  71.2833"
      ]
     },
     "metadata": {},
     "output_type": "display_data"
    }
   ],
   "source": [
    "train_categorical = train[train.columns.intersection(categoricals)]\n",
    "train_categorical['Pclass'] = train['Pclass']\n",
    "train_categorical['FamSize'] = train['FamSize']\n",
    " \n",
    "train_numerical = train[train.columns.intersection(numericals)].drop(['Pclass', 'FamSize'],axis = 1)\n",
    "display(train_categorical.head(2))\n",
    "display(train_numerical.head(2))"
   ]
  },
  {
   "cell_type": "code",
   "execution_count": 16,
   "id": "0b00f684",
   "metadata": {
    "execution": {
     "iopub.execute_input": "2021-11-24T03:27:29.208031Z",
     "iopub.status.busy": "2021-11-24T03:27:29.207367Z",
     "iopub.status.idle": "2021-11-24T03:27:29.617536Z",
     "shell.execute_reply": "2021-11-24T03:27:29.617126Z",
     "shell.execute_reply.started": "2021-11-24T01:34:53.369870Z"
    },
    "papermill": {
     "duration": 0.498468,
     "end_time": "2021-11-24T03:27:29.617650",
     "exception": false,
     "start_time": "2021-11-24T03:27:29.119182",
     "status": "completed"
    },
    "tags": []
   },
   "outputs": [
    {
     "data": {
      "image/png": "[encoded data removed]",
      "text/plain": [
       "<Figure size 432x288 with 1 Axes>"
      ]
     },
     "metadata": {
      "needs_background": "light"
     },
     "output_type": "display_data"
    },
    {
     "data": {
      "image/png": "[encoded data removed]",
      "text/plain": [
       "<Figure size 432x288 with 1 Axes>"
      ]
     },
     "metadata": {
      "needs_background": "light"
     },
     "output_type": "display_data"
    }
   ],
   "source": [
    "for col_name in train_numerical:\n",
    "    sns.distplot(train_numerical.loc[:,col_name])\n",
    "    plt.show()"
   ]
  },
  {
   "cell_type": "code",
   "execution_count": 17,
   "id": "ee958760",
   "metadata": {
    "execution": {
     "iopub.execute_input": "2021-11-24T03:27:29.740367Z",
     "iopub.status.busy": "2021-11-24T03:27:29.739791Z",
     "iopub.status.idle": "2021-11-24T03:27:30.467304Z",
     "shell.execute_reply": "2021-11-24T03:27:30.466727Z",
     "shell.execute_reply.started": "2021-11-24T01:34:54.066991Z"
    },
    "papermill": {
     "duration": 0.791901,
     "end_time": "2021-11-24T03:27:30.467416",
     "exception": false,
     "start_time": "2021-11-24T03:27:29.675515",
     "status": "completed"
    },
    "tags": []
   },
   "outputs": [
    {
     "data": {
      "image/png": "[encoded data removed]",
      "text/plain": [
       "<Figure size 432x288 with 1 Axes>"
      ]
     },
     "metadata": {
      "needs_background": "light"
     },
     "output_type": "display_data"
    },
    {
     "data": {
      "image/png": "[encoded data removed]",
      "text/plain": [
       "<Figure size 432x288 with 1 Axes>"
      ]
     },
     "metadata": {
      "needs_background": "light"
     },
     "output_type": "display_data"
    },
    {
     "data": {
      "image/png": "[encoded data removed]",
      "text/plain": [
       "<Figure size 432x288 with 1 Axes>"
      ]
     },
     "metadata": {
      "needs_background": "light"
     },
     "output_type": "display_data"
    },
    {
     "data": {
      "image/png": "[encoded data removed]",
      "text/plain": [
       "<Figure size 432x288 with 1 Axes>"
      ]
     },
     "metadata": {
      "needs_background": "light"
     },
     "output_type": "display_data"
    },
    {
     "data": {
      "image/png": "[encoded data removed]",
      "text/plain": [
       "<Figure size 432x288 with 1 Axes>"
      ]
     },
     "metadata": {
      "needs_background": "light"
     },
     "output_type": "display_data"
    }
   ],
   "source": [
    "for col_name in train_categorical.columns:\n",
    "    percent = train_categorical.loc[:,col_name].value_counts(normalize = True)\n",
    "    \n",
    "    fig, ax = plt.subplots()\n",
    "    sns.barplot(x = percent.index, y = percent, palette = 'Blues').set(ylim=(0,1))     \n",
    "    plt.show()"
   ]
  },
  {
   "cell_type": "markdown",
   "id": "086eac7f",
   "metadata": {
    "papermill": {
     "duration": 0.059264,
     "end_time": "2021-11-24T03:27:30.586495",
     "exception": false,
     "start_time": "2021-11-24T03:27:30.527231",
     "status": "completed"
    },
    "tags": []
   },
   "source": [
    "Males were the predominant sex aboard, most people embarked through S, most people had a common title and most of them belonged to the lower class also most of the people embarked alone"
   ]
  },
  {
   "cell_type": "code",
   "execution_count": 18,
   "id": "c52872e1",
   "metadata": {
    "execution": {
     "iopub.execute_input": "2021-11-24T03:27:30.712796Z",
     "iopub.status.busy": "2021-11-24T03:27:30.712256Z",
     "iopub.status.idle": "2021-11-24T03:27:32.045205Z",
     "shell.execute_reply": "2021-11-24T03:27:32.045609Z",
     "shell.execute_reply.started": "2021-11-24T01:34:55.142184Z"
    },
    "papermill": {
     "duration": 1.399402,
     "end_time": "2021-11-24T03:27:32.045765",
     "exception": false,
     "start_time": "2021-11-24T03:27:30.646363",
     "status": "completed"
    },
    "tags": []
   },
   "outputs": [
    {
     "data": {
      "image/png": "[encoded data removed]",
      "text/plain": [
       "<Figure size 432x288 with 1 Axes>"
      ]
     },
     "metadata": {
      "needs_background": "light"
     },
     "output_type": "display_data"
    },
    {
     "data": {
      "image/png": "[encoded data removed]",
      "text/plain": [
       "<Figure size 432x288 with 1 Axes>"
      ]
     },
     "metadata": {
      "needs_background": "light"
     },
     "output_type": "display_data"
    },
    {
     "data": {
      "image/png": "[encoded data removed]",
      "text/plain": [
       "<Figure size 432x288 with 1 Axes>"
      ]
     },
     "metadata": {
      "needs_background": "light"
     },
     "output_type": "display_data"
    },
    {
     "data": {
      "image/png": "[encoded data removed]",
      "text/plain": [
       "<Figure size 432x288 with 1 Axes>"
      ]
     },
     "metadata": {
      "needs_background": "light"
     },
     "output_type": "display_data"
    },
    {
     "data": {
      "image/png": "[encoded data removed]",
      "text/plain": [
       "<Figure size 432x288 with 1 Axes>"
      ]
     },
     "metadata": {
      "needs_background": "light"
     },
     "output_type": "display_data"
    }
   ],
   "source": [
    "for col_name in train_categorical.columns:\n",
    "    fig, ax = plt.subplots()\n",
    "    sns.barplot(x = train_categorical.loc[:,col_name], y = train['Survived'], palette = 'Blues')\n",
    "    plt.show()"
   ]
  },
  {
   "cell_type": "markdown",
   "id": "a6d7d53a",
   "metadata": {
    "papermill": {
     "duration": 0.060697,
     "end_time": "2021-11-24T03:27:32.167696",
     "exception": false,
     "start_time": "2021-11-24T03:27:32.106999",
     "status": "completed"
    },
    "tags": []
   },
   "source": [
    "Can be observed that females had much more probability of survival than males, also you were much more likely of survival if you were embarked from C, people with Uncommon titles were more likely of survival than Common title people and seems like you had much better chance of survival if you were from upper class and if you family size were between one and three members besides of you.  "
   ]
  },
  {
   "cell_type": "code",
   "execution_count": 19,
   "id": "cec9c2c0",
   "metadata": {
    "execution": {
     "iopub.execute_input": "2021-11-24T03:27:32.292423Z",
     "iopub.status.busy": "2021-11-24T03:27:32.291850Z",
     "iopub.status.idle": "2021-11-24T03:27:32.836501Z",
     "shell.execute_reply": "2021-11-24T03:27:32.837132Z",
     "shell.execute_reply.started": "2021-11-24T01:34:57.151971Z"
    },
    "papermill": {
     "duration": 0.608947,
     "end_time": "2021-11-24T03:27:32.837292",
     "exception": false,
     "start_time": "2021-11-24T03:27:32.228345",
     "status": "completed"
    },
    "tags": []
   },
   "outputs": [
    {
     "data": {
      "image/png": "[encoded data removed]",
      "text/plain": [
       "<Figure size 432x288 with 1 Axes>"
      ]
     },
     "metadata": {
      "needs_background": "light"
     },
     "output_type": "display_data"
    },
    {
     "data": {
      "image/png": "[encoded data removed]",
      "text/plain": [
       "<Figure size 432x288 with 1 Axes>"
      ]
     },
     "metadata": {
      "needs_background": "light"
     },
     "output_type": "display_data"
    }
   ],
   "source": [
    "for col_name in train_numerical.columns:\n",
    "    fig, ax = plt.subplots()\n",
    "    sns.boxplot(y = train_numerical.loc[:,col_name], x = train['Survived'], palette = 'Blues')\n",
    "    plt.show()"
   ]
  },
  {
   "cell_type": "markdown",
   "id": "7612a659",
   "metadata": {
    "papermill": {
     "duration": 0.063631,
     "end_time": "2021-11-24T03:27:32.966769",
     "exception": false,
     "start_time": "2021-11-24T03:27:32.903138",
     "status": "completed"
    },
    "tags": []
   },
   "source": [
    "It seems that the possibility of survival is indifferent to age, but people with greater fare tend to be more likely of survival, also the greater the family size the better the chance of survival."
   ]
  },
  {
   "cell_type": "markdown",
   "id": "a024cb44",
   "metadata": {
    "papermill": {
     "duration": 0.063892,
     "end_time": "2021-11-24T03:27:33.094536",
     "exception": false,
     "start_time": "2021-11-24T03:27:33.030644",
     "status": "completed"
    },
    "tags": []
   },
   "source": [
    "5. <a id=\"5\"></a> <br>\n",
    "# Modeling"
   ]
  },
  {
   "cell_type": "code",
   "execution_count": 20,
   "id": "b13dcc17",
   "metadata": {
    "execution": {
     "iopub.execute_input": "2021-11-24T03:27:33.219028Z",
     "iopub.status.busy": "2021-11-24T03:27:33.218498Z",
     "iopub.status.idle": "2021-11-24T03:27:34.242216Z",
     "shell.execute_reply": "2021-11-24T03:27:34.242594Z",
     "shell.execute_reply.started": "2021-11-24T01:34:57.602171Z"
    },
    "papermill": {
     "duration": 1.089051,
     "end_time": "2021-11-24T03:27:34.242740",
     "exception": false,
     "start_time": "2021-11-24T03:27:33.153689",
     "status": "completed"
    },
    "tags": []
   },
   "outputs": [],
   "source": [
    "for i, row in train.iterrows():\n",
    "    if row['Sex'] == 'Female':\n",
    "        train.loc[i, 'Sex'] = 0\n",
    "    else:\n",
    "        train.loc[i, 'Sex'] = 1\n",
    "    if row['Embarked'] == 'C':\n",
    "        train.loc[i, 'Embarked'] = 0\n",
    "    elif row['Embarked'] == 'S':\n",
    "        train.loc[i, 'Embarked'] = 1\n",
    "    else:\n",
    "        train.loc[i, 'Embarked'] = 2\n",
    "    if row['Title'] == 'Common':\n",
    "        train.loc[i, 'Title'] = 0\n",
    "    else:\n",
    "        train.loc[i, 'Title'] = 1\n",
    "\n",
    "for i, row in test.iterrows():\n",
    "    if row['Sex'] == 'Female':\n",
    "        test.loc[i, 'Sex'] = 0\n",
    "    else:\n",
    "        test.loc[i, 'Sex'] = 1\n",
    "    if row['Embarked'] == 'C':\n",
    "        test.loc[i, 'Embarked'] = 0\n",
    "    elif row['Embarked'] == 'S':\n",
    "        test.loc[i, 'Embarked'] = 1\n",
    "    else:\n",
    "        test.loc[i, 'Embarked'] = 2\n",
    "    if row['Title'] == 'Common':\n",
    "        test.loc[i, 'Title'] = 0\n",
    "    else:\n",
    "        test.loc[i, 'Title'] = 1"
   ]
  },
  {
   "cell_type": "code",
   "execution_count": 21,
   "id": "6c65f29d",
   "metadata": {
    "execution": {
     "iopub.execute_input": "2021-11-24T03:27:34.388979Z",
     "iopub.status.busy": "2021-11-24T03:27:34.388337Z",
     "iopub.status.idle": "2021-11-24T03:27:34.417200Z",
     "shell.execute_reply": "2021-11-24T03:27:34.416677Z",
     "shell.execute_reply.started": "2021-11-24T01:34:58.992467Z"
    },
    "papermill": {
     "duration": 0.11005,
     "end_time": "2021-11-24T03:27:34.417327",
     "exception": false,
     "start_time": "2021-11-24T03:27:34.307277",
     "status": "completed"
    },
    "tags": []
   },
   "outputs": [
    {
     "name": "stdout",
     "output_type": "stream",
     "text": [
      "<class 'pandas.core.frame.DataFrame'>\n",
      "Int64Index: 891 entries, 1 to 891\n",
      "Data columns (total 8 columns):\n",
      " #   Column    Non-Null Count  Dtype  \n",
      "---  ------    --------------  -----  \n",
      " 0   Survived  891 non-null    float64\n",
      " 1   Pclass    891 non-null    int64  \n",
      " 2   Sex       891 non-null    int64  \n",
      " 3   Age       891 non-null    float64\n",
      " 4   Fare      891 non-null    float64\n",
      " 5   Embarked  891 non-null    int64  \n",
      " 6   Title     891 non-null    int64  \n",
      " 7   FamSize   891 non-null    int64  \n",
      "dtypes: float64(3), int64(5)\n",
      "memory usage: 94.9 KB\n"
     ]
    },
    {
     "data": {
      "text/plain": [
       "None"
      ]
     },
     "metadata": {},
     "output_type": "display_data"
    },
    {
     "name": "stdout",
     "output_type": "stream",
     "text": [
      "<class 'pandas.core.frame.DataFrame'>\n",
      "Int64Index: 418 entries, 892 to 1309\n",
      "Data columns (total 7 columns):\n",
      " #   Column    Non-Null Count  Dtype  \n",
      "---  ------    --------------  -----  \n",
      " 0   Pclass    418 non-null    int64  \n",
      " 1   Sex       418 non-null    int64  \n",
      " 2   Age       418 non-null    float64\n",
      " 3   Fare      418 non-null    float64\n",
      " 4   Embarked  418 non-null    int64  \n",
      " 5   Title     418 non-null    int64  \n",
      " 6   FamSize   418 non-null    int64  \n",
      "dtypes: float64(2), int64(5)\n",
      "memory usage: 42.3 KB\n"
     ]
    },
    {
     "data": {
      "text/plain": [
       "None"
      ]
     },
     "metadata": {},
     "output_type": "display_data"
    }
   ],
   "source": [
    "train['Sex'] = train['Sex'].astype('int64')\n",
    "train['Embarked'] = train['Embarked'].astype('int64')\n",
    "train['Title'] = train['Title'].astype('int64')\n",
    "\n",
    "test['Sex'] = test['Sex'].astype('int64')\n",
    "test['Embarked'] = test['Embarked'].astype('int64')\n",
    "test['Title'] = test['Title'].astype('int64')\n",
    "\n",
    "display(train.info())\n",
    "display(test.info())"
   ]
  },
  {
   "cell_type": "markdown",
   "id": "bd087200",
   "metadata": {
    "papermill": {
     "duration": 0.063764,
     "end_time": "2021-11-24T03:27:34.546891",
     "exception": false,
     "start_time": "2021-11-24T03:27:34.483127",
     "status": "completed"
    },
    "tags": []
   },
   "source": [
    "Splitting data"
   ]
  },
  {
   "cell_type": "code",
   "execution_count": 22,
   "id": "ec8c4a25",
   "metadata": {
    "execution": {
     "iopub.execute_input": "2021-11-24T03:27:34.682040Z",
     "iopub.status.busy": "2021-11-24T03:27:34.681506Z",
     "iopub.status.idle": "2021-11-24T03:27:34.686102Z",
     "shell.execute_reply": "2021-11-24T03:27:34.685627Z",
     "shell.execute_reply.started": "2021-11-24T01:34:59.028055Z"
    },
    "papermill": {
     "duration": 0.07471,
     "end_time": "2021-11-24T03:27:34.686220",
     "exception": false,
     "start_time": "2021-11-24T03:27:34.611510",
     "status": "completed"
    },
    "tags": []
   },
   "outputs": [],
   "source": [
    "X = train.drop('Survived',axis=1)\n",
    "y = train['Survived']"
   ]
  },
  {
   "cell_type": "code",
   "execution_count": 23,
   "id": "348a4007",
   "metadata": {
    "execution": {
     "iopub.execute_input": "2021-11-24T03:27:34.824366Z",
     "iopub.status.busy": "2021-11-24T03:27:34.823695Z",
     "iopub.status.idle": "2021-11-24T03:27:34.827046Z",
     "shell.execute_reply": "2021-11-24T03:27:34.826574Z",
     "shell.execute_reply.started": "2021-11-24T01:34:59.037002Z"
    },
    "papermill": {
     "duration": 0.075187,
     "end_time": "2021-11-24T03:27:34.827161",
     "exception": false,
     "start_time": "2021-11-24T03:27:34.751974",
     "status": "completed"
    },
    "tags": []
   },
   "outputs": [],
   "source": [
    "X_train, X_test, y_train, y_test = train_test_split(X, y, test_size = 0.2, random_state = 2021)"
   ]
  },
  {
   "cell_type": "code",
   "execution_count": 24,
   "id": "3cdb126b",
   "metadata": {
    "execution": {
     "iopub.execute_input": "2021-11-24T03:27:34.962573Z",
     "iopub.status.busy": "2021-11-24T03:27:34.962093Z",
     "iopub.status.idle": "2021-11-24T03:27:34.964437Z",
     "shell.execute_reply": "2021-11-24T03:27:34.964799Z",
     "shell.execute_reply.started": "2021-11-24T01:34:59.055971Z"
    },
    "papermill": {
     "duration": 0.072697,
     "end_time": "2021-11-24T03:27:34.964953",
     "exception": false,
     "start_time": "2021-11-24T03:27:34.892256",
     "status": "completed"
    },
    "tags": []
   },
   "outputs": [
    {
     "data": {
      "text/plain": [
       "((712, 7), (712,), (179, 7), (179,))"
      ]
     },
     "execution_count": 24,
     "metadata": {},
     "output_type": "execute_result"
    }
   ],
   "source": [
    "X_train.shape, y_train.shape,X_test.shape, y_test.shape"
   ]
  },
  {
   "cell_type": "code",
   "execution_count": 25,
   "id": "b2f4ebc6",
   "metadata": {
    "execution": {
     "iopub.execute_input": "2021-11-24T03:27:35.098855Z",
     "iopub.status.busy": "2021-11-24T03:27:35.097084Z",
     "iopub.status.idle": "2021-11-24T03:27:35.107788Z",
     "shell.execute_reply": "2021-11-24T03:27:35.108476Z",
     "shell.execute_reply.started": "2021-11-24T01:34:59.063882Z"
    },
    "papermill": {
     "duration": 0.079161,
     "end_time": "2021-11-24T03:27:35.108671",
     "exception": false,
     "start_time": "2021-11-24T03:27:35.029510",
     "status": "completed"
    },
    "tags": []
   },
   "outputs": [
    {
     "name": "stdout",
     "output_type": "stream",
     "text": [
      "<class 'pandas.core.frame.DataFrame'>\n",
      "Int64Index: 712 entries, 91 to 117\n",
      "Data columns (total 7 columns):\n",
      " #   Column    Non-Null Count  Dtype  \n",
      "---  ------    --------------  -----  \n",
      " 0   Pclass    712 non-null    int64  \n",
      " 1   Sex       712 non-null    int64  \n",
      " 2   Age       712 non-null    float64\n",
      " 3   Fare      712 non-null    float64\n",
      " 4   Embarked  712 non-null    int64  \n",
      " 5   Title     712 non-null    int64  \n",
      " 6   FamSize   712 non-null    int64  \n",
      "dtypes: float64(2), int64(5)\n",
      "memory usage: 44.5 KB\n"
     ]
    }
   ],
   "source": [
    "X_train.info()"
   ]
  },
  {
   "cell_type": "code",
   "execution_count": 26,
   "id": "e67ced85",
   "metadata": {
    "execution": {
     "iopub.execute_input": "2021-11-24T03:27:35.312161Z",
     "iopub.status.busy": "2021-11-24T03:27:35.311470Z",
     "iopub.status.idle": "2021-11-24T03:27:35.319973Z",
     "shell.execute_reply": "2021-11-24T03:27:35.319340Z",
     "shell.execute_reply.started": "2021-11-24T01:34:59.082749Z"
    },
    "papermill": {
     "duration": 0.112786,
     "end_time": "2021-11-24T03:27:35.320117",
     "exception": false,
     "start_time": "2021-11-24T03:27:35.207331",
     "status": "completed"
    },
    "tags": []
   },
   "outputs": [],
   "source": [
    "# Logistic Regression\n",
    "log_model = LogisticRegression(solver='liblinear', random_state = 2021)\n",
    "log_model.fit(X_train, y_train)\n",
    "y_hat = log_model.predict(X_test)"
   ]
  },
  {
   "cell_type": "code",
   "execution_count": 27,
   "id": "7c81fa1e",
   "metadata": {
    "execution": {
     "iopub.execute_input": "2021-11-24T03:27:35.519216Z",
     "iopub.status.busy": "2021-11-24T03:27:35.518602Z",
     "iopub.status.idle": "2021-11-24T03:27:35.711552Z",
     "shell.execute_reply": "2021-11-24T03:27:35.711069Z",
     "shell.execute_reply.started": "2021-11-24T01:34:59.103000Z"
    },
    "papermill": {
     "duration": 0.293525,
     "end_time": "2021-11-24T03:27:35.711683",
     "exception": false,
     "start_time": "2021-11-24T03:27:35.418158",
     "status": "completed"
    },
    "tags": []
   },
   "outputs": [
    {
     "data": {
      "image/png": "[encoded data removed]",
      "text/plain": [
       "<Figure size 432x288 with 2 Axes>"
      ]
     },
     "metadata": {
      "needs_background": "light"
     },
     "output_type": "display_data"
    }
   ],
   "source": [
    "cm = confusion_matrix(y_test,y_hat)\n",
    "\n",
    "disp = ConfusionMatrixDisplay(confusion_matrix=cm,\n",
    "                               display_labels=log_model.classes_)\n",
    "disp.plot()\n",
    "\n",
    "\n",
    "plt.show()"
   ]
  },
  {
   "cell_type": "code",
   "execution_count": 28,
   "id": "283362e6",
   "metadata": {
    "execution": {
     "iopub.execute_input": "2021-11-24T03:27:35.909974Z",
     "iopub.status.busy": "2021-11-24T03:27:35.909280Z",
     "iopub.status.idle": "2021-11-24T03:27:35.916285Z",
     "shell.execute_reply": "2021-11-24T03:27:35.915691Z",
     "shell.execute_reply.started": "2021-11-24T01:34:59.380066Z"
    },
    "papermill": {
     "duration": 0.11232,
     "end_time": "2021-11-24T03:27:35.916661",
     "exception": false,
     "start_time": "2021-11-24T03:27:35.804341",
     "status": "completed"
    },
    "tags": []
   },
   "outputs": [],
   "source": [
    "accuracy_log = accuracy_score(y_test, y_hat).round(2)\n",
    "precision_log = precision_score(y_test, y_hat).round(2)\n",
    "recall_log = recall_score(y_test, y_hat).round(2)\n",
    "f1_log = f1_score(y_test, y_hat).round(2)"
   ]
  },
  {
   "cell_type": "code",
   "execution_count": 29,
   "id": "8c0add54",
   "metadata": {
    "execution": {
     "iopub.execute_input": "2021-11-24T03:27:36.121881Z",
     "iopub.status.busy": "2021-11-24T03:27:36.121143Z",
     "iopub.status.idle": "2021-11-24T03:27:36.127973Z",
     "shell.execute_reply": "2021-11-24T03:27:36.127364Z",
     "shell.execute_reply.started": "2021-11-24T01:34:59.396348Z"
    },
    "papermill": {
     "duration": 0.112162,
     "end_time": "2021-11-24T03:27:36.128119",
     "exception": false,
     "start_time": "2021-11-24T03:27:36.015957",
     "status": "completed"
    },
    "tags": []
   },
   "outputs": [],
   "source": [
    "# Desicion Tree\n",
    "tree_model = DecisionTreeClassifier(random_state = 2021)\n",
    "tree_model.fit(X_train, y_train)\n",
    "y_hat = tree_model.predict(X_test)"
   ]
  },
  {
   "cell_type": "code",
   "execution_count": 30,
   "id": "2bf0fdba",
   "metadata": {
    "execution": {
     "iopub.execute_input": "2021-11-24T03:27:36.367241Z",
     "iopub.status.busy": "2021-11-24T03:27:36.349930Z",
     "iopub.status.idle": "2021-11-24T03:27:36.494458Z",
     "shell.execute_reply": "2021-11-24T03:27:36.495052Z",
     "shell.execute_reply.started": "2021-11-24T01:34:59.415288Z"
    },
    "papermill": {
     "duration": 0.269329,
     "end_time": "2021-11-24T03:27:36.495246",
     "exception": false,
     "start_time": "2021-11-24T03:27:36.225917",
     "status": "completed"
    },
    "tags": []
   },
   "outputs": [
    {
     "data": {
      "image/png": "[encoded data removed]",
      "text/plain": [
       "<Figure size 432x288 with 2 Axes>"
      ]
     },
     "metadata": {
      "needs_background": "light"
     },
     "output_type": "display_data"
    }
   ],
   "source": [
    "cm = confusion_matrix(y_test,y_hat)\n",
    "\n",
    "disp = ConfusionMatrixDisplay(confusion_matrix=cm,\n",
    "                               display_labels=tree_model.classes_)\n",
    "disp.plot()\n",
    "\n",
    "\n",
    "plt.show()"
   ]
  },
  {
   "cell_type": "code",
   "execution_count": 31,
   "id": "0500ba20",
   "metadata": {
    "execution": {
     "iopub.execute_input": "2021-11-24T03:27:36.701815Z",
     "iopub.status.busy": "2021-11-24T03:27:36.699631Z",
     "iopub.status.idle": "2021-11-24T03:27:36.704346Z",
     "shell.execute_reply": "2021-11-24T03:27:36.704829Z",
     "shell.execute_reply.started": "2021-11-24T01:34:59.677374Z"
    },
    "papermill": {
     "duration": 0.110793,
     "end_time": "2021-11-24T03:27:36.705022",
     "exception": false,
     "start_time": "2021-11-24T03:27:36.594229",
     "status": "completed"
    },
    "tags": []
   },
   "outputs": [],
   "source": [
    "accuracy_tree = accuracy_score(y_test, y_hat).round(2)\n",
    "precision_tree = precision_score(y_test, y_hat).round(2)\n",
    "recall_tree = recall_score(y_test, y_hat).round(2)\n",
    "f1_tree = f1_score(y_test, y_hat).round(2)"
   ]
  },
  {
   "cell_type": "code",
   "execution_count": 32,
   "id": "fc5e1bf0",
   "metadata": {
    "execution": {
     "iopub.execute_input": "2021-11-24T03:27:36.911770Z",
     "iopub.status.busy": "2021-11-24T03:27:36.911015Z",
     "iopub.status.idle": "2021-11-24T03:27:36.941124Z",
     "shell.execute_reply": "2021-11-24T03:27:36.940583Z",
     "shell.execute_reply.started": "2021-11-24T01:34:59.693878Z"
    },
    "papermill": {
     "duration": 0.136503,
     "end_time": "2021-11-24T03:27:36.941237",
     "exception": false,
     "start_time": "2021-11-24T03:27:36.804734",
     "status": "completed"
    },
    "tags": []
   },
   "outputs": [],
   "source": [
    "# Bagging\n",
    "bag_model = BaggingClassifier(random_state = 2021) \n",
    "bag_model.fit(X_train, y_train)\n",
    "y_hat = bag_model.predict(X_test)"
   ]
  },
  {
   "cell_type": "code",
   "execution_count": 33,
   "id": "a6d898b5",
   "metadata": {
    "execution": {
     "iopub.execute_input": "2021-11-24T03:27:37.102655Z",
     "iopub.status.busy": "2021-11-24T03:27:37.075407Z",
     "iopub.status.idle": "2021-11-24T03:27:37.239439Z",
     "shell.execute_reply": "2021-11-24T03:27:37.240212Z",
     "shell.execute_reply.started": "2021-11-24T01:34:59.741360Z"
    },
    "papermill": {
     "duration": 0.233085,
     "end_time": "2021-11-24T03:27:37.240410",
     "exception": false,
     "start_time": "2021-11-24T03:27:37.007325",
     "status": "completed"
    },
    "tags": []
   },
   "outputs": [
    {
     "data": {
      "image/png": "[encoded data removed]",
      "text/plain": [
       "<Figure size 432x288 with 2 Axes>"
      ]
     },
     "metadata": {
      "needs_background": "light"
     },
     "output_type": "display_data"
    }
   ],
   "source": [
    "cm = confusion_matrix(y_test,y_hat)\n",
    "\n",
    "disp = ConfusionMatrixDisplay(confusion_matrix=cm,\n",
    "                               display_labels=bag_model.classes_)\n",
    "disp.plot()\n",
    "\n",
    "\n",
    "plt.show()"
   ]
  },
  {
   "cell_type": "code",
   "execution_count": 34,
   "id": "ad1dab54",
   "metadata": {
    "execution": {
     "iopub.execute_input": "2021-11-24T03:27:37.445352Z",
     "iopub.status.busy": "2021-11-24T03:27:37.444685Z",
     "iopub.status.idle": "2021-11-24T03:27:37.450391Z",
     "shell.execute_reply": "2021-11-24T03:27:37.450901Z",
     "shell.execute_reply.started": "2021-11-24T01:35:00.006216Z"
    },
    "papermill": {
     "duration": 0.110089,
     "end_time": "2021-11-24T03:27:37.451084",
     "exception": false,
     "start_time": "2021-11-24T03:27:37.340995",
     "status": "completed"
    },
    "tags": []
   },
   "outputs": [],
   "source": [
    "accuracy_bag = accuracy_score(y_test, y_hat).round(2)\n",
    "precision_bag = precision_score(y_test, y_hat).round(2)\n",
    "recall_bag = recall_score(y_test, y_hat).round(2)\n",
    "f1_bag = f1_score(y_test, y_hat).round(2)"
   ]
  },
  {
   "cell_type": "code",
   "execution_count": 35,
   "id": "f3dee810",
   "metadata": {
    "execution": {
     "iopub.execute_input": "2021-11-24T03:27:37.653825Z",
     "iopub.status.busy": "2021-11-24T03:27:37.653218Z",
     "iopub.status.idle": "2021-11-24T03:27:37.818102Z",
     "shell.execute_reply": "2021-11-24T03:27:37.818609Z",
     "shell.execute_reply.started": "2021-11-24T01:35:00.021191Z"
    },
    "papermill": {
     "duration": 0.267288,
     "end_time": "2021-11-24T03:27:37.818770",
     "exception": false,
     "start_time": "2021-11-24T03:27:37.551482",
     "status": "completed"
    },
    "tags": []
   },
   "outputs": [],
   "source": [
    "# Random Forest\n",
    "rf_model = RandomForestClassifier(random_state = 2021)\n",
    "rf_model.fit(X_train, y_train)\n",
    "y_hat = tree_model.predict(X_test)"
   ]
  },
  {
   "cell_type": "code",
   "execution_count": 36,
   "id": "6d764602",
   "metadata": {
    "execution": {
     "iopub.execute_input": "2021-11-24T03:27:38.007666Z",
     "iopub.status.busy": "2021-11-24T03:27:38.006998Z",
     "iopub.status.idle": "2021-11-24T03:27:38.164458Z",
     "shell.execute_reply": "2021-11-24T03:27:38.163777Z",
     "shell.execute_reply.started": "2021-11-24T01:35:00.273667Z"
    },
    "papermill": {
     "duration": 0.253146,
     "end_time": "2021-11-24T03:27:38.164619",
     "exception": false,
     "start_time": "2021-11-24T03:27:37.911473",
     "status": "completed"
    },
    "tags": []
   },
   "outputs": [
    {
     "data": {
      "image/png": "[encoded data removed]",
      "text/plain": [
       "<Figure size 432x288 with 2 Axes>"
      ]
     },
     "metadata": {
      "needs_background": "light"
     },
     "output_type": "display_data"
    }
   ],
   "source": [
    "cm = confusion_matrix(y_test,y_hat)\n",
    "\n",
    "disp = ConfusionMatrixDisplay(confusion_matrix=cm,\n",
    "                               display_labels=rf_model.classes_)\n",
    "disp.plot()\n",
    "\n",
    "\n",
    "plt.show()"
   ]
  },
  {
   "cell_type": "code",
   "execution_count": 37,
   "id": "79c2ad30",
   "metadata": {
    "execution": {
     "iopub.execute_input": "2021-11-24T03:27:38.371718Z",
     "iopub.status.busy": "2021-11-24T03:27:38.371096Z",
     "iopub.status.idle": "2021-11-24T03:27:38.377633Z",
     "shell.execute_reply": "2021-11-24T03:27:38.378178Z",
     "shell.execute_reply.started": "2021-11-24T01:35:00.537174Z"
    },
    "papermill": {
     "duration": 0.112013,
     "end_time": "2021-11-24T03:27:38.378359",
     "exception": false,
     "start_time": "2021-11-24T03:27:38.266346",
     "status": "completed"
    },
    "tags": []
   },
   "outputs": [],
   "source": [
    "accuracy_rf = accuracy_score(y_test, y_hat).round(2)\n",
    "precision_rf = precision_score(y_test, y_hat).round(2)\n",
    "recall_rf = recall_score(y_test, y_hat).round(2)\n",
    "f1_rf = f1_score(y_test, y_hat).round(2)"
   ]
  },
  {
   "cell_type": "code",
   "execution_count": 38,
   "id": "b8091d94",
   "metadata": {
    "execution": {
     "iopub.execute_input": "2021-11-24T03:27:38.530371Z",
     "iopub.status.busy": "2021-11-24T03:27:38.529711Z",
     "iopub.status.idle": "2021-11-24T03:27:38.547119Z",
     "shell.execute_reply": "2021-11-24T03:27:38.546589Z",
     "shell.execute_reply.started": "2021-11-24T01:35:00.551798Z"
    },
    "papermill": {
     "duration": 0.089644,
     "end_time": "2021-11-24T03:27:38.547232",
     "exception": false,
     "start_time": "2021-11-24T03:27:38.457588",
     "status": "completed"
    },
    "tags": []
   },
   "outputs": [],
   "source": [
    "# LDA\n",
    "lda_model = LinearDiscriminantAnalysis()\n",
    "lda_model.fit(X_train, y_train)\n",
    "y_hat = lda_model.predict(X_test)"
   ]
  },
  {
   "cell_type": "code",
   "execution_count": 39,
   "id": "24d1c9fb",
   "metadata": {
    "execution": {
     "iopub.execute_input": "2021-11-24T03:27:38.711082Z",
     "iopub.status.busy": "2021-11-24T03:27:38.709728Z",
     "iopub.status.idle": "2021-11-24T03:27:38.857579Z",
     "shell.execute_reply": "2021-11-24T03:27:38.857097Z",
     "shell.execute_reply.started": "2021-11-24T01:35:00.566889Z"
    },
    "papermill": {
     "duration": 0.243422,
     "end_time": "2021-11-24T03:27:38.857683",
     "exception": false,
     "start_time": "2021-11-24T03:27:38.614261",
     "status": "completed"
    },
    "tags": []
   },
   "outputs": [
    {
     "data": {
      "image/png": "[encoded data removed]",
      "text/plain": [
       "<Figure size 432x288 with 2 Axes>"
      ]
     },
     "metadata": {
      "needs_background": "light"
     },
     "output_type": "display_data"
    }
   ],
   "source": [
    "cm = confusion_matrix(y_test,y_hat)\n",
    "\n",
    "disp = ConfusionMatrixDisplay(confusion_matrix=cm,\n",
    "                               display_labels=lda_model.classes_)\n",
    "disp.plot()\n",
    "\n",
    "\n",
    "plt.show()"
   ]
  },
  {
   "cell_type": "code",
   "execution_count": 40,
   "id": "a161fd22",
   "metadata": {
    "execution": {
     "iopub.execute_input": "2021-11-24T03:27:38.998895Z",
     "iopub.status.busy": "2021-11-24T03:27:38.998175Z",
     "iopub.status.idle": "2021-11-24T03:27:39.005371Z",
     "shell.execute_reply": "2021-11-24T03:27:39.005756Z",
     "shell.execute_reply.started": "2021-11-24T01:35:00.854275Z"
    },
    "papermill": {
     "duration": 0.079379,
     "end_time": "2021-11-24T03:27:39.005922",
     "exception": false,
     "start_time": "2021-11-24T03:27:38.926543",
     "status": "completed"
    },
    "tags": []
   },
   "outputs": [],
   "source": [
    "accuracy_lda = accuracy_score(y_test, y_hat).round(2)\n",
    "precision_lda = precision_score(y_test, y_hat).round(2)\n",
    "recall_lda = recall_score(y_test, y_hat).round(2)\n",
    "f1_lda = f1_score(y_test, y_hat).round(2)"
   ]
  },
  {
   "cell_type": "code",
   "execution_count": 41,
   "id": "940b666f",
   "metadata": {
    "execution": {
     "iopub.execute_input": "2021-11-24T03:27:39.148507Z",
     "iopub.status.busy": "2021-11-24T03:27:39.147515Z",
     "iopub.status.idle": "2021-11-24T03:27:39.152678Z",
     "shell.execute_reply": "2021-11-24T03:27:39.153086Z",
     "shell.execute_reply.started": "2021-11-24T01:35:00.868989Z"
    },
    "papermill": {
     "duration": 0.079709,
     "end_time": "2021-11-24T03:27:39.153244",
     "exception": false,
     "start_time": "2021-11-24T03:27:39.073535",
     "status": "completed"
    },
    "tags": []
   },
   "outputs": [],
   "source": [
    "#QDA\n",
    "qda_model = QuadraticDiscriminantAnalysis()\n",
    "qda_model.fit(X_train, y_train)\n",
    "y_hat = lda_model.predict(X_test)"
   ]
  },
  {
   "cell_type": "code",
   "execution_count": 42,
   "id": "6af38500",
   "metadata": {
    "execution": {
     "iopub.execute_input": "2021-11-24T03:27:39.295657Z",
     "iopub.status.busy": "2021-11-24T03:27:39.295100Z",
     "iopub.status.idle": "2021-11-24T03:27:39.492748Z",
     "shell.execute_reply": "2021-11-24T03:27:39.492329Z",
     "shell.execute_reply.started": "2021-11-24T01:35:00.882736Z"
    },
    "papermill": {
     "duration": 0.270977,
     "end_time": "2021-11-24T03:27:39.492900",
     "exception": false,
     "start_time": "2021-11-24T03:27:39.221923",
     "status": "completed"
    },
    "tags": []
   },
   "outputs": [
    {
     "data": {
      "image/png": "[encoded data removed]",
      "text/plain": [
       "<Figure size 432x288 with 2 Axes>"
      ]
     },
     "metadata": {
      "needs_background": "light"
     },
     "output_type": "display_data"
    }
   ],
   "source": [
    "cm = confusion_matrix(y_test,y_hat)\n",
    "\n",
    "disp = ConfusionMatrixDisplay(confusion_matrix=cm,\n",
    "                               display_labels=qda_model.classes_)\n",
    "disp.plot()\n",
    "\n",
    "\n",
    "plt.show()"
   ]
  },
  {
   "cell_type": "code",
   "execution_count": 43,
   "id": "9b8f674e",
   "metadata": {
    "execution": {
     "iopub.execute_input": "2021-11-24T03:27:39.640625Z",
     "iopub.status.busy": "2021-11-24T03:27:39.639839Z",
     "iopub.status.idle": "2021-11-24T03:27:39.645380Z",
     "shell.execute_reply": "2021-11-24T03:27:39.645793Z",
     "shell.execute_reply.started": "2021-11-24T01:35:01.166722Z"
    },
    "papermill": {
     "duration": 0.082184,
     "end_time": "2021-11-24T03:27:39.645963",
     "exception": false,
     "start_time": "2021-11-24T03:27:39.563779",
     "status": "completed"
    },
    "tags": []
   },
   "outputs": [],
   "source": [
    "accuracy_qda = accuracy_score(y_test, y_hat).round(2)\n",
    "precision_qda = precision_score(y_test, y_hat).round(2)\n",
    "recall_qda = recall_score(y_test, y_hat).round(2)\n",
    "f1_qda = f1_score(y_test, y_hat).round(2)"
   ]
  },
  {
   "cell_type": "code",
   "execution_count": 44,
   "id": "238bde5f",
   "metadata": {
    "execution": {
     "iopub.execute_input": "2021-11-24T03:27:39.786441Z",
     "iopub.status.busy": "2021-11-24T03:27:39.785838Z",
     "iopub.status.idle": "2021-11-24T03:27:39.805352Z",
     "shell.execute_reply": "2021-11-24T03:27:39.805743Z",
     "shell.execute_reply.started": "2021-11-24T01:35:01.181485Z"
    },
    "papermill": {
     "duration": 0.092567,
     "end_time": "2021-11-24T03:27:39.805908",
     "exception": false,
     "start_time": "2021-11-24T03:27:39.713341",
     "status": "completed"
    },
    "tags": []
   },
   "outputs": [],
   "source": [
    "# Suport Vector Machine\n",
    "svm_model = SVC(random_state = 2021)\n",
    "svm_model.fit(X_train, y_train)\n",
    "y_hat = svm_model.predict(X_test)"
   ]
  },
  {
   "cell_type": "code",
   "execution_count": 45,
   "id": "e00095d0",
   "metadata": {
    "execution": {
     "iopub.execute_input": "2021-11-24T03:27:39.948688Z",
     "iopub.status.busy": "2021-11-24T03:27:39.948002Z",
     "iopub.status.idle": "2021-11-24T03:27:40.110230Z",
     "shell.execute_reply": "2021-11-24T03:27:40.109659Z",
     "shell.execute_reply.started": "2021-11-24T01:35:01.217438Z"
    },
    "papermill": {
     "duration": 0.235535,
     "end_time": "2021-11-24T03:27:40.110384",
     "exception": false,
     "start_time": "2021-11-24T03:27:39.874849",
     "status": "completed"
    },
    "tags": []
   },
   "outputs": [
    {
     "data": {
      "image/png": "[encoded data removed]",
      "text/plain": [
       "<Figure size 432x288 with 2 Axes>"
      ]
     },
     "metadata": {
      "needs_background": "light"
     },
     "output_type": "display_data"
    }
   ],
   "source": [
    "cm = confusion_matrix(y_test,y_hat)\n",
    "\n",
    "disp = ConfusionMatrixDisplay(confusion_matrix=cm,\n",
    "                               display_labels=svm_model.classes_)\n",
    "disp.plot()\n",
    "\n",
    "\n",
    "plt.show()"
   ]
  },
  {
   "cell_type": "code",
   "execution_count": 46,
   "id": "c820f800",
   "metadata": {
    "execution": {
     "iopub.execute_input": "2021-11-24T03:27:40.318605Z",
     "iopub.status.busy": "2021-11-24T03:27:40.317953Z",
     "iopub.status.idle": "2021-11-24T03:27:40.325010Z",
     "shell.execute_reply": "2021-11-24T03:27:40.325494Z",
     "shell.execute_reply.started": "2021-11-24T01:35:01.500912Z"
    },
    "papermill": {
     "duration": 0.112026,
     "end_time": "2021-11-24T03:27:40.325688",
     "exception": false,
     "start_time": "2021-11-24T03:27:40.213662",
     "status": "completed"
    },
    "tags": []
   },
   "outputs": [],
   "source": [
    "accuracy_svm = accuracy_score(y_test, y_hat).round(2)\n",
    "precision_svm = precision_score(y_test, y_hat).round(2)\n",
    "recall_svm = recall_score(y_test, y_hat).round(2)\n",
    "f1_svm = f1_score(y_test, y_hat).round(2)"
   ]
  },
  {
   "cell_type": "code",
   "execution_count": 47,
   "id": "282147f6",
   "metadata": {
    "execution": {
     "iopub.execute_input": "2021-11-24T03:27:40.535595Z",
     "iopub.status.busy": "2021-11-24T03:27:40.534978Z",
     "iopub.status.idle": "2021-11-24T03:27:40.575877Z",
     "shell.execute_reply": "2021-11-24T03:27:40.576373Z",
     "shell.execute_reply.started": "2021-11-24T01:35:01.518477Z"
    },
    "papermill": {
     "duration": 0.146525,
     "end_time": "2021-11-24T03:27:40.576556",
     "exception": false,
     "start_time": "2021-11-24T03:27:40.430031",
     "status": "completed"
    },
    "tags": []
   },
   "outputs": [],
   "source": [
    "# Linear SVM\n",
    "lsvm_model = LinearSVC(random_state = 2021)\n",
    "lsvm_model.fit(X_train, y_train)\n",
    "y_hat = lsvm_model.predict(X_test)"
   ]
  },
  {
   "cell_type": "code",
   "execution_count": 48,
   "id": "49871ecf",
   "metadata": {
    "execution": {
     "iopub.execute_input": "2021-11-24T03:27:40.845406Z",
     "iopub.status.busy": "2021-11-24T03:27:40.837793Z",
     "iopub.status.idle": "2021-11-24T03:27:40.988065Z",
     "shell.execute_reply": "2021-11-24T03:27:40.987269Z",
     "shell.execute_reply.started": "2021-11-24T01:35:01.558258Z"
    },
    "papermill": {
     "duration": 0.309273,
     "end_time": "2021-11-24T03:27:40.988188",
     "exception": false,
     "start_time": "2021-11-24T03:27:40.678915",
     "status": "completed"
    },
    "tags": []
   },
   "outputs": [
    {
     "data": {
      "image/png": "[encoded data removed]",
      "text/plain": [
       "<Figure size 432x288 with 2 Axes>"
      ]
     },
     "metadata": {
      "needs_background": "light"
     },
     "output_type": "display_data"
    }
   ],
   "source": [
    "cm = confusion_matrix(y_test,y_hat)\n",
    "\n",
    "disp = ConfusionMatrixDisplay(confusion_matrix=cm,\n",
    "                               display_labels=lsvm_model.classes_)\n",
    "disp.plot()\n",
    "\n",
    "\n",
    "plt.show()"
   ]
  },
  {
   "cell_type": "code",
   "execution_count": 49,
   "id": "b5103644",
   "metadata": {
    "execution": {
     "iopub.execute_input": "2021-11-24T03:27:41.129783Z",
     "iopub.status.busy": "2021-11-24T03:27:41.129275Z",
     "iopub.status.idle": "2021-11-24T03:27:41.137736Z",
     "shell.execute_reply": "2021-11-24T03:27:41.138179Z",
     "shell.execute_reply.started": "2021-11-24T01:35:01.832750Z"
    },
    "papermill": {
     "duration": 0.081561,
     "end_time": "2021-11-24T03:27:41.138327",
     "exception": false,
     "start_time": "2021-11-24T03:27:41.056766",
     "status": "completed"
    },
    "tags": []
   },
   "outputs": [],
   "source": [
    "accuracy_lsvm = accuracy_score(y_test, y_hat).round(2)\n",
    "precision_lsvm = precision_score(y_test, y_hat).round(2)\n",
    "recall_lsvm = recall_score(y_test, y_hat).round(2)\n",
    "f1_lsvm = f1_score(y_test, y_hat).round(2)"
   ]
  },
  {
   "cell_type": "code",
   "execution_count": 50,
   "id": "f414b98a",
   "metadata": {
    "execution": {
     "iopub.execute_input": "2021-11-24T03:27:41.284541Z",
     "iopub.status.busy": "2021-11-24T03:27:41.278995Z",
     "iopub.status.idle": "2021-11-24T03:27:41.286043Z",
     "shell.execute_reply": "2021-11-24T03:27:41.286508Z",
     "shell.execute_reply.started": "2021-11-24T01:45:58.634661Z"
    },
    "papermill": {
     "duration": 0.08004,
     "end_time": "2021-11-24T03:27:41.286645",
     "exception": false,
     "start_time": "2021-11-24T03:27:41.206605",
     "status": "completed"
    },
    "tags": []
   },
   "outputs": [],
   "source": [
    "models = pd.DataFrame({\n",
    "    'Model': ['Logistic Regression','Desicion Tree','Bagging','Random Forest','LDA','QDA','SVM','Linear SVM'],\n",
    "    'Accuracy' : [accuracy_log, accuracy_tree, accuracy_bag, accuracy_rf, accuracy_lda, accuracy_qda, accuracy_svm, accuracy_lsvm],\n",
    "    'Precision': [precision_log, precision_tree, precision_bag, precision_rf, precision_lda, precision_qda, precision_svm, precision_lsvm],\n",
    "    'Recall' : [recall_log, recall_tree, recall_bag, recall_rf, recall_lda, recall_qda, recall_svm, recall_lsvm],\n",
    "    'F1' : [f1_log, f1_tree, f1_bag, f1_rf, f1_lda, f1_qda, f1_svm, f1_lsvm]\n",
    "})"
   ]
  },
  {
   "cell_type": "code",
   "execution_count": 51,
   "id": "a6378244",
   "metadata": {
    "execution": {
     "iopub.execute_input": "2021-11-24T03:27:41.440415Z",
     "iopub.status.busy": "2021-11-24T03:27:41.439728Z",
     "iopub.status.idle": "2021-11-24T03:27:41.442238Z",
     "shell.execute_reply": "2021-11-24T03:27:41.442690Z",
     "shell.execute_reply.started": "2021-11-24T01:47:09.231166Z"
    },
    "papermill": {
     "duration": 0.083787,
     "end_time": "2021-11-24T03:27:41.442819",
     "exception": false,
     "start_time": "2021-11-24T03:27:41.359032",
     "status": "completed"
    },
    "tags": []
   },
   "outputs": [
    {
     "data": {
      "text/html": [
       "<div>\n",
       "<style scoped>\n",
       "    .dataframe tbody tr th:only-of-type {\n",
       "        vertical-align: middle;\n",
       "    }\n",
       "\n",
       "    .dataframe tbody tr th {\n",
       "        vertical-align: top;\n",
       "    }\n",
       "\n",
       "    .dataframe thead th {\n",
       "        text-align: right;\n",
       "    }\n",
       "</style>\n",
       "<table border=\"1\" class=\"dataframe\">\n",
       "  <thead>\n",
       "    <tr style=\"text-align: right;\">\n",
       "      <th></th>\n",
       "      <th>Model</th>\n",
       "      <th>Accuracy</th>\n",
       "      <th>Precision</th>\n",
       "      <th>Recall</th>\n",
       "      <th>F1</th>\n",
       "    </tr>\n",
       "  </thead>\n",
       "  <tbody>\n",
       "    <tr>\n",
       "      <th>1</th>\n",
       "      <td>Desicion Tree</td>\n",
       "      <td>0.65</td>\n",
       "      <td>0.57</td>\n",
       "      <td>0.48</td>\n",
       "      <td>0.52</td>\n",
       "    </tr>\n",
       "    <tr>\n",
       "      <th>3</th>\n",
       "      <td>Random Forest</td>\n",
       "      <td>0.65</td>\n",
       "      <td>0.57</td>\n",
       "      <td>0.48</td>\n",
       "      <td>0.52</td>\n",
       "    </tr>\n",
       "    <tr>\n",
       "      <th>4</th>\n",
       "      <td>LDA</td>\n",
       "      <td>0.69</td>\n",
       "      <td>0.71</td>\n",
       "      <td>0.38</td>\n",
       "      <td>0.50</td>\n",
       "    </tr>\n",
       "    <tr>\n",
       "      <th>5</th>\n",
       "      <td>QDA</td>\n",
       "      <td>0.69</td>\n",
       "      <td>0.71</td>\n",
       "      <td>0.38</td>\n",
       "      <td>0.50</td>\n",
       "    </tr>\n",
       "    <tr>\n",
       "      <th>2</th>\n",
       "      <td>Bagging</td>\n",
       "      <td>0.63</td>\n",
       "      <td>0.54</td>\n",
       "      <td>0.44</td>\n",
       "      <td>0.48</td>\n",
       "    </tr>\n",
       "    <tr>\n",
       "      <th>0</th>\n",
       "      <td>Logistic Regression</td>\n",
       "      <td>0.68</td>\n",
       "      <td>0.71</td>\n",
       "      <td>0.34</td>\n",
       "      <td>0.46</td>\n",
       "    </tr>\n",
       "    <tr>\n",
       "      <th>6</th>\n",
       "      <td>SVM</td>\n",
       "      <td>0.64</td>\n",
       "      <td>0.62</td>\n",
       "      <td>0.25</td>\n",
       "      <td>0.36</td>\n",
       "    </tr>\n",
       "    <tr>\n",
       "      <th>7</th>\n",
       "      <td>Linear SVM</td>\n",
       "      <td>0.61</td>\n",
       "      <td>1.00</td>\n",
       "      <td>0.03</td>\n",
       "      <td>0.05</td>\n",
       "    </tr>\n",
       "  </tbody>\n",
       "</table>\n",
       "</div>"
      ],
      "text/plain": [
       "                 Model  Accuracy  Precision  Recall    F1\n",
       "1        Desicion Tree      0.65       0.57    0.48  0.52\n",
       "3        Random Forest      0.65       0.57    0.48  0.52\n",
       "4                  LDA      0.69       0.71    0.38  0.50\n",
       "5                  QDA      0.69       0.71    0.38  0.50\n",
       "2              Bagging      0.63       0.54    0.44  0.48\n",
       "0  Logistic Regression      0.68       0.71    0.34  0.46\n",
       "6                  SVM      0.64       0.62    0.25  0.36\n",
       "7           Linear SVM      0.61       1.00    0.03  0.05"
      ]
     },
     "execution_count": 51,
     "metadata": {},
     "output_type": "execute_result"
    }
   ],
   "source": [
    "models.sort_values('F1', ascending = False)"
   ]
  },
  {
   "cell_type": "markdown",
   "id": "81f80e7e",
   "metadata": {
    "papermill": {
     "duration": 0.068628,
     "end_time": "2021-11-24T03:27:41.580912",
     "exception": false,
     "start_time": "2021-11-24T03:27:41.512284",
     "status": "completed"
    },
    "tags": []
   },
   "source": [
    "Random Forest is chosen as the model to use due it has the highest F1 score"
   ]
  },
  {
   "cell_type": "code",
   "execution_count": 52,
   "id": "fc1d3591",
   "metadata": {
    "execution": {
     "iopub.execute_input": "2021-11-24T03:27:41.722408Z",
     "iopub.status.busy": "2021-11-24T03:27:41.721718Z",
     "iopub.status.idle": "2021-11-24T03:27:41.725745Z",
     "shell.execute_reply": "2021-11-24T03:27:41.726135Z",
     "shell.execute_reply.started": "2021-11-24T03:01:47.514629Z"
    },
    "papermill": {
     "duration": 0.076075,
     "end_time": "2021-11-24T03:27:41.726271",
     "exception": false,
     "start_time": "2021-11-24T03:27:41.650196",
     "status": "completed"
    },
    "tags": []
   },
   "outputs": [],
   "source": [
    "# Cross validation\n",
    "param_grid = {\n",
    "    'bootstrap': [True],\n",
    "    'criterion': ['gini','entropy'],\n",
    "    'max_features': [2,3,4,5,6,7],\n",
    "    'n_estimators':[800,900,1000]\n",
    "}\n",
    "\n",
    "grid_search = GridSearchCV(estimator = rf_model, scoring = 'f1', param_grid = param_grid, cv = 3, n_jobs = -1, verbose = 2)"
   ]
  },
  {
   "cell_type": "code",
   "execution_count": 53,
   "id": "eda2e767",
   "metadata": {
    "execution": {
     "iopub.execute_input": "2021-11-24T03:27:41.869333Z",
     "iopub.status.busy": "2021-11-24T03:27:41.868653Z",
     "iopub.status.idle": "2021-11-24T03:28:56.814764Z",
     "shell.execute_reply": "2021-11-24T03:28:56.814306Z",
     "shell.execute_reply.started": "2021-11-24T03:01:50.568243Z"
    },
    "papermill": {
     "duration": 75.019189,
     "end_time": "2021-11-24T03:28:56.814904",
     "exception": false,
     "start_time": "2021-11-24T03:27:41.795715",
     "status": "completed"
    },
    "tags": []
   },
   "outputs": [
    {
     "name": "stdout",
     "output_type": "stream",
     "text": [
      "Fitting 3 folds for each of 36 candidates, totalling 108 fits\n"
     ]
    },
    {
     "data": {
      "text/plain": [
       "GridSearchCV(cv=3, estimator=RandomForestClassifier(random_state=2021),\n",
       "             n_jobs=-1,\n",
       "             param_grid={'bootstrap': [True], 'criterion': ['gini', 'entropy'],\n",
       "                         'max_features': [2, 3, 4, 5, 6, 7],\n",
       "                         'n_estimators': [800, 900, 1000]},\n",
       "             scoring='f1', verbose=2)"
      ]
     },
     "execution_count": 53,
     "metadata": {},
     "output_type": "execute_result"
    }
   ],
   "source": [
    "grid_search.fit(X_train, y_train)"
   ]
  },
  {
   "cell_type": "code",
   "execution_count": 54,
   "id": "bdb37e43",
   "metadata": {
    "execution": {
     "iopub.execute_input": "2021-11-24T03:28:56.962033Z",
     "iopub.status.busy": "2021-11-24T03:28:56.961511Z",
     "iopub.status.idle": "2021-11-24T03:28:56.965470Z",
     "shell.execute_reply": "2021-11-24T03:28:56.965860Z",
     "shell.execute_reply.started": "2021-11-24T03:03:36.697490Z"
    },
    "papermill": {
     "duration": 0.080328,
     "end_time": "2021-11-24T03:28:56.966021",
     "exception": false,
     "start_time": "2021-11-24T03:28:56.885693",
     "status": "completed"
    },
    "tags": []
   },
   "outputs": [
    {
     "data": {
      "text/plain": [
       "{'bootstrap': True,\n",
       " 'criterion': 'entropy',\n",
       " 'max_features': 2,\n",
       " 'n_estimators': 800}"
      ]
     },
     "execution_count": 54,
     "metadata": {},
     "output_type": "execute_result"
    }
   ],
   "source": [
    "grid_search.best_params_"
   ]
  },
  {
   "cell_type": "code",
   "execution_count": 55,
   "id": "19b34e97",
   "metadata": {
    "execution": {
     "iopub.execute_input": "2021-11-24T03:28:57.113932Z",
     "iopub.status.busy": "2021-11-24T03:28:57.113420Z",
     "iopub.status.idle": "2021-11-24T03:28:57.221503Z",
     "shell.execute_reply": "2021-11-24T03:28:57.221924Z",
     "shell.execute_reply.started": "2021-11-24T03:03:40.207659Z"
    },
    "papermill": {
     "duration": 0.18546,
     "end_time": "2021-11-24T03:28:57.222076",
     "exception": false,
     "start_time": "2021-11-24T03:28:57.036616",
     "status": "completed"
    },
    "tags": []
   },
   "outputs": [],
   "source": [
    "y_hat = grid_search.predict(X_test)"
   ]
  },
  {
   "cell_type": "code",
   "execution_count": 56,
   "id": "908ec7a4",
   "metadata": {
    "execution": {
     "iopub.execute_input": "2021-11-24T03:28:57.393573Z",
     "iopub.status.busy": "2021-11-24T03:28:57.372008Z",
     "iopub.status.idle": "2021-11-24T03:28:57.576333Z",
     "shell.execute_reply": "2021-11-24T03:28:57.575765Z",
     "shell.execute_reply.started": "2021-11-24T03:03:46.796836Z"
    },
    "papermill": {
     "duration": 0.282099,
     "end_time": "2021-11-24T03:28:57.576449",
     "exception": false,
     "start_time": "2021-11-24T03:28:57.294350",
     "status": "completed"
    },
    "tags": []
   },
   "outputs": [
    {
     "data": {
      "image/png": "[encoded data removed]",
      "text/plain": [
       "<Figure size 432x288 with 2 Axes>"
      ]
     },
     "metadata": {
      "needs_background": "light"
     },
     "output_type": "display_data"
    }
   ],
   "source": [
    "cm = confusion_matrix(y_test,y_hat)\n",
    "\n",
    "disp = ConfusionMatrixDisplay(confusion_matrix=cm,\n",
    "                               display_labels=grid_search.classes_)\n",
    "disp.plot()\n",
    "\n",
    "\n",
    "plt.show()"
   ]
  },
  {
   "cell_type": "code",
   "execution_count": 57,
   "id": "eca228a9",
   "metadata": {
    "execution": {
     "iopub.execute_input": "2021-11-24T03:28:57.733613Z",
     "iopub.status.busy": "2021-11-24T03:28:57.733094Z",
     "iopub.status.idle": "2021-11-24T03:28:57.738070Z",
     "shell.execute_reply": "2021-11-24T03:28:57.738480Z",
     "shell.execute_reply.started": "2021-11-24T03:03:50.491506Z"
    },
    "papermill": {
     "duration": 0.087817,
     "end_time": "2021-11-24T03:28:57.738635",
     "exception": false,
     "start_time": "2021-11-24T03:28:57.650818",
     "status": "completed"
    },
    "tags": []
   },
   "outputs": [],
   "source": [
    "accuracy_rf2 = accuracy_score(y_test, y_hat)\n",
    "precision_rf2 = precision_score(y_test, y_hat)\n",
    "recall_rf2 = recall_score(y_test, y_hat)\n",
    "f1_rf2 = f1_score(y_test, y_hat)"
   ]
  },
  {
   "cell_type": "code",
   "execution_count": 58,
   "id": "35d11808",
   "metadata": {
    "execution": {
     "iopub.execute_input": "2021-11-24T03:28:57.890501Z",
     "iopub.status.busy": "2021-11-24T03:28:57.889976Z",
     "iopub.status.idle": "2021-11-24T03:28:57.892539Z",
     "shell.execute_reply": "2021-11-24T03:28:57.892045Z",
     "shell.execute_reply.started": "2021-11-24T03:03:53.451792Z"
    },
    "papermill": {
     "duration": 0.08174,
     "end_time": "2021-11-24T03:28:57.892652",
     "exception": false,
     "start_time": "2021-11-24T03:28:57.810912",
     "status": "completed"
    },
    "tags": []
   },
   "outputs": [],
   "source": [
    "models = pd.DataFrame({\n",
    "    'Models' : ['Random Forest','CV Random Forest'],\n",
    "    'Accuracy': [accuracy_rf, accuracy_rf2],\n",
    "    'Precision': [precision_rf, precision_rf2],\n",
    "    'Recall': [recall_rf, recall_rf2],\n",
    "    'F1': [f1_rf, f1_rf2]\n",
    "})"
   ]
  },
  {
   "cell_type": "code",
   "execution_count": 59,
   "id": "09600cee",
   "metadata": {
    "execution": {
     "iopub.execute_input": "2021-11-24T03:28:58.046062Z",
     "iopub.status.busy": "2021-11-24T03:28:58.045532Z",
     "iopub.status.idle": "2021-11-24T03:28:58.049570Z",
     "shell.execute_reply": "2021-11-24T03:28:58.049047Z",
     "shell.execute_reply.started": "2021-11-24T03:13:01.344637Z"
    },
    "papermill": {
     "duration": 0.085863,
     "end_time": "2021-11-24T03:28:58.049694",
     "exception": false,
     "start_time": "2021-11-24T03:28:57.963831",
     "status": "completed"
    },
    "tags": []
   },
   "outputs": [
    {
     "data": {
      "text/html": [
       "<div>\n",
       "<style scoped>\n",
       "    .dataframe tbody tr th:only-of-type {\n",
       "        vertical-align: middle;\n",
       "    }\n",
       "\n",
       "    .dataframe tbody tr th {\n",
       "        vertical-align: top;\n",
       "    }\n",
       "\n",
       "    .dataframe thead th {\n",
       "        text-align: right;\n",
       "    }\n",
       "</style>\n",
       "<table border=\"1\" class=\"dataframe\">\n",
       "  <thead>\n",
       "    <tr style=\"text-align: right;\">\n",
       "      <th></th>\n",
       "      <th>Models</th>\n",
       "      <th>Accuracy</th>\n",
       "      <th>Precision</th>\n",
       "      <th>Recall</th>\n",
       "      <th>F1</th>\n",
       "    </tr>\n",
       "  </thead>\n",
       "  <tbody>\n",
       "    <tr>\n",
       "      <th>0</th>\n",
       "      <td>Random Forest</td>\n",
       "      <td>0.650000</td>\n",
       "      <td>0.570000</td>\n",
       "      <td>0.480000</td>\n",
       "      <td>0.520000</td>\n",
       "    </tr>\n",
       "    <tr>\n",
       "      <th>1</th>\n",
       "      <td>CV Random Forest</td>\n",
       "      <td>0.675978</td>\n",
       "      <td>0.603175</td>\n",
       "      <td>0.535211</td>\n",
       "      <td>0.567164</td>\n",
       "    </tr>\n",
       "  </tbody>\n",
       "</table>\n",
       "</div>"
      ],
      "text/plain": [
       "             Models  Accuracy  Precision    Recall        F1\n",
       "0     Random Forest  0.650000   0.570000  0.480000  0.520000\n",
       "1  CV Random Forest  0.675978   0.603175  0.535211  0.567164"
      ]
     },
     "execution_count": 59,
     "metadata": {},
     "output_type": "execute_result"
    }
   ],
   "source": [
    "models"
   ]
  },
  {
   "cell_type": "markdown",
   "id": "cc83b4a5",
   "metadata": {
    "papermill": {
     "duration": 0.071637,
     "end_time": "2021-11-24T03:28:58.194601",
     "exception": false,
     "start_time": "2021-11-24T03:28:58.122964",
     "status": "completed"
    },
    "tags": []
   },
   "source": [
    "Final Model"
   ]
  },
  {
   "cell_type": "code",
   "execution_count": 60,
   "id": "373a7808",
   "metadata": {
    "execution": {
     "iopub.execute_input": "2021-11-24T03:28:58.346443Z",
     "iopub.status.busy": "2021-11-24T03:28:58.345968Z",
     "iopub.status.idle": "2021-11-24T03:29:00.867040Z",
     "shell.execute_reply": "2021-11-24T03:29:00.867451Z",
     "shell.execute_reply.started": "2021-11-24T03:14:59.342789Z"
    },
    "papermill": {
     "duration": 2.600771,
     "end_time": "2021-11-24T03:29:00.867591",
     "exception": false,
     "start_time": "2021-11-24T03:28:58.266820",
     "status": "completed"
    },
    "tags": []
   },
   "outputs": [],
   "source": [
    "final_model = RandomForestClassifier(random_state = 2021, \n",
    "                                     bootstrap = [True],\n",
    "                                     criterion = 'entropy',\n",
    "                                     max_features = 2,\n",
    "                                     n_estimators = 800)\n",
    "final_model.fit(X,y)\n",
    "predictions = final_model.predict(test)"
   ]
  },
  {
   "cell_type": "code",
   "execution_count": 61,
   "id": "7d4a6589",
   "metadata": {
    "execution": {
     "iopub.execute_input": "2021-11-24T03:29:01.015322Z",
     "iopub.status.busy": "2021-11-24T03:29:01.014819Z",
     "iopub.status.idle": "2021-11-24T03:29:01.021129Z",
     "shell.execute_reply": "2021-11-24T03:29:01.021683Z",
     "shell.execute_reply.started": "2021-11-24T03:19:11.643548Z"
    },
    "papermill": {
     "duration": 0.081866,
     "end_time": "2021-11-24T03:29:01.021837",
     "exception": false,
     "start_time": "2021-11-24T03:29:00.939971",
     "status": "completed"
    },
    "tags": []
   },
   "outputs": [
    {
     "data": {
      "text/plain": [
       "Int64Index([ 892,  893,  894,  895,  896,  897,  898,  899,  900,  901,\n",
       "            ...\n",
       "            1300, 1301, 1302, 1303, 1304, 1305, 1306, 1307, 1308, 1309],\n",
       "           dtype='int64', name='PassengerId', length=418)"
      ]
     },
     "execution_count": 61,
     "metadata": {},
     "output_type": "execute_result"
    }
   ],
   "source": [
    "test.index"
   ]
  },
  {
   "cell_type": "code",
   "execution_count": 62,
   "id": "b65c0427",
   "metadata": {
    "execution": {
     "iopub.execute_input": "2021-11-24T03:29:01.171056Z",
     "iopub.status.busy": "2021-11-24T03:29:01.170530Z",
     "iopub.status.idle": "2021-11-24T03:29:01.179707Z",
     "shell.execute_reply": "2021-11-24T03:29:01.180199Z",
     "shell.execute_reply.started": "2021-11-24T03:21:25.880270Z"
    },
    "papermill": {
     "duration": 0.085182,
     "end_time": "2021-11-24T03:29:01.180356",
     "exception": false,
     "start_time": "2021-11-24T03:29:01.095174",
     "status": "completed"
    },
    "tags": []
   },
   "outputs": [],
   "source": [
    "sub = pd.DataFrame({\n",
    "    test.index.name: test.index,\n",
    "    'Survived': predictions.astype('int64')\n",
    "})\n",
    "sub.to_csv('submission.csv', index=False)"
   ]
  }
 ],
 "metadata": {
  "kernelspec": {
   "display_name": "Python 3",
   "language": "python",
   "name": "python3"
  },
  "language_info": {
   "codemirror_mode": {
    "name": "ipython",
    "version": 3
   },
   "file_extension": ".py",
   "mimetype": "text/x-python",
   "name": "python",
   "nbconvert_exporter": "python",
   "pygments_lexer": "ipython3",
   "version": "3.10.0"
  },
  "papermill": {
   "default_parameters": {},
   "duration": 108.649433,
   "end_time": "2021-11-24T03:29:02.164322",
   "environment_variables": {},
   "exception": null,
   "input_path": "__notebook__.ipynb",
   "output_path": "__notebook__.ipynb",
   "parameters": {},
   "start_time": "2021-11-24T03:27:13.514889",
   "version": "2.3.3"
  }
 },
 "nbformat": 4,
 "nbformat_minor": 5
}
